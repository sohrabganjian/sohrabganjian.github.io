{
 "cells": [
  {
   "cell_type": "markdown",
   "id": "f8197db0-daa2-4c37-b60b-a3f6e1169d64",
   "metadata": {},
   "source": [
    "# Bernstein–Vazirani Algorithm"
   ]
  },
  {
   "cell_type": "markdown",
   "id": "95433ac5-4ea0-4a3d-ab24-f130423abc0e",
   "metadata": {},
   "source": [
    "In this notebook, we study the Bernstein–Vazirani algorithm, another foundational quantum algorithm in the development of quantum computing. Like the Deutsch-Jozsa algorithm, which we have already introduced and analyzed [here](https://sohrabganjian.github.io/blog/2025/deutsch-jozsa-algorithm/), the Bernstein-Vazirani algorithm also utilizes Hadamard gates and oracle interactions. However, as we will see, the nature of their quantum speedups differs."
   ]
  },
  {
   "cell_type": "markdown",
   "id": "e730bce1-98a6-4941-8834-0b82b4818783",
   "metadata": {},
   "source": [
    "## Table of Contents\n",
    "\n",
    "1. **Introduction**\n",
    "2. **Bernstein–Vazirani Problem Statement**\n",
    "3. **Algorithm**\n",
    "4. **Proof of Correctness**\n",
    "5. **Qiskit Implementation**\n",
    "6. **Classical Algorithm**\n",
    "7. **Quantum and Classical Comparison**\n",
    "\n",
    "## Appendices\n",
    "\n",
    "8. **Appendix 1: Biography**\n",
    "9. **Appendix 2: References**\n",
    "10. **Appendix 3: Bernstein–Vazirani Algoithm in `pytket`**"
   ]
  },
  {
   "cell_type": "markdown",
   "id": "ec71fe47-feaa-4579-a2aa-6dc91a2ea346",
   "metadata": {},
   "source": [
    "### Introduction "
   ]
  },
  {
   "cell_type": "markdown",
   "id": "d7bc366b-0d0f-43e5-b350-cc3ced41df94",
   "metadata": {},
   "source": [
    "Bernstien-Vazirani algorithm is a quantum algorithm developed by Ethan Bernstein and Umesh Vazirani. Similar to Deutsch-Jozsa algorithm, its input and output are the same: Boolean function $f(x): \\{ 0,1 \\}^n \\rightarrow \\{ 0,1 \\} $. However, the problems they solve are different. The Bernstien-Vazirani algorithm revolves around finding a hidden parameter. Using quantum computers, like Deutsch-Jozsa algorithm, Bernstien-Vazirani algorithm requires making one query to the oracle to determine the hidden parameter, while in the classical case, $n$ queries are needed to find the hidden parameter. "
   ]
  },
  {
   "cell_type": "markdown",
   "id": "2ebc1fff-98db-47e5-b1c2-1b7fe2b6e618",
   "metadata": {},
   "source": [
    "### Bernstein–Vazirani Problem Statement "
   ]
  },
  {
   "cell_type": "markdown",
   "id": "9d1938a1-a13a-4726-b678-f4252e78e31a",
   "metadata": {},
   "source": [
    "Let $f_s(x)$ be a Boolean function mapping $n$-bit strings to a single bit: \n",
    "$$f_s :\\{ 0,1 \\}^n \\rightarrow \\{ 0,1 \\}.$$\n",
    "The function is pormised to behave as:\n",
    "$$\n",
    "f_s(x) = x \\cdot s \\mod 2\n",
    "$$\n",
    "where $s$ is a hidden $n$-bit secret, and $\\cdot$ denotes the bitwise inner product. That is, $x \\cdot s = \\left( x_1 \\cdot s_1 \\right) \\oplus \\left( x_2 \\cdot s_2 \\right) \\oplus \\dots \\oplus \\left( x_n \\cdot s_n \\right)$. The Bernstein–Vazirani problem seeks to determine the hidden string $s$ using the fewest possible queries to the oracle. "
   ]
  },
  {
   "cell_type": "markdown",
   "id": "45e896de-78ef-4084-915a-605202284b82",
   "metadata": {},
   "source": [
    "### Algorithm\n",
    "\n",
    "1. **Initialization**: Initialize the quantum circuit by creating $n$ qubits in the $|0\\rangle$ state and one ancillary qubit in the $|1\\rangle$ state. Obtain:\n",
    "$$|\\psi_0\\rangle = |0\\rangle^{\\otimes n} \\otimes |1\\rangle.$$\n",
    "2. **Hadamarad Layer**: Apply Hadamard gates to all qubits to create a superposition:\n",
    "$$H^{\\otimes n+1}|\\psi_0\\rangle = |\\psi_1\\rangle.$$\n",
    "3. **Oracle Query**: The oracle $U_f$ is applied, performing the transformation:\n",
    "$$U_f |\\psi_1 \\rangle = |\\psi_2\\rangle.$$\n",
    "4.  **Second Hadamard Layer**: Applying Hadamard gates to the first  $n$ qubits results in:\n",
    "$$(H^{\\otimes n} \\otimes I) |\\psi_2 \\rangle = |\\psi_3\\rangle$$\n",
    "5. **Measurement**: Measurement of the first $n$ qubits is performed in the computational basis, Let $|\\psi_3\\rangle = |\\phi\\rangle \\otimes |\\Psi \\rangle$, where $|\\phi\\rangle$ is the state of the first $n$ qubits and $| \\Psi \\rangle $ is the ancillary qubit. The probability of observing outcome $m \\in \\{ 0,1 \\}^n$ is  \n",
    "   $$p(m) = \\langle \\psi_3 | \\left( |m\\rangle \\langle m | \\otimes I \\right) |\\psi_3 \\rangle = \\left| \\langle m | \\phi \\rangle \\right|^2  $$\n",
    "We will show that $m = s$. In other words, $p(m) = \\delta_{m,s}$, where the Kronecker delta $\\delta_{m,s}$ means $p(m) = 1$ only if $m = s$."
   ]
  },
  {
   "attachments": {
    "fe3b317e-fbcb-409e-81e2-1c01e80e5d80.jpg": {
     "image/jpeg": "[encoded data removed]"
    }
   },
   "cell_type": "markdown",
   "id": "d27f0dde-617b-4d47-9152-4714f04faca2",
   "metadata": {},
   "source": [
    "![Bernstein–Vazirani_Algorithm.jpg](attachment:fe3b317e-fbcb-409e-81e2-1c01e80e5d80.jpg)"
   ]
  },
  {
   "cell_type": "markdown",
   "id": "964ff345-ea7d-4e42-a457-ebeb3aba3a8c",
   "metadata": {},
   "source": [
    "### Proof of Correctness"
   ]
  },
  {
   "attachments": {},
   "cell_type": "markdown",
   "id": "50a86d19-541c-43bd-9730-977eeff5e3e5",
   "metadata": {},
   "source": [
    "We begin by initializing the quantum system. The ancillary qubit is flipped from $|0\\rangle$ to $|1\\rangle$, leaving us with the initial state:\n",
    "\n",
    "\n",
    "$$\n",
    "\\begin{aligned}\n",
    "\\left[ I^{\\otimes n} \\otimes X \\right] |0\\rangle^{\\otimes n+1} &= |0\\rangle^{\\otimes n} |1\\rangle \\\\\n",
    "&= |\\psi_0 \\rangle\n",
    "\\end{aligned}\n",
    "$$\n",
    "\n",
    "Next, we apply a Hadamard transformation to all qubits, creating an equal superposition of all possible computational basis states:\n",
    "\n",
    "$$\n",
    "\\begin{aligned}\n",
    "H^{\\otimes n+1} |\\psi_0 \\rangle &= H^{\\otimes n+1} |0\\rangle^{\\otimes n} |1 \\rangle \\\\\n",
    "&= \\frac{1}{\\sqrt{2}^n} \\sum\\limits_{x \\in \\{ 0,1 \\}^n } | x \\rangle \\frac{|0\\rangle - |1\\rangle}{\\sqrt{2}} \\\\\n",
    "&= |\\psi_1 \\rangle\n",
    "\\end{aligned}\n",
    "$$\n",
    "\n",
    "At this stage, we query the oracle $U_f$:\n",
    "\n",
    "$$\n",
    "\\begin{aligned}\n",
    "U_f |\\psi_1\\rangle &= U_f \\left[ \\frac{1}{\\sqrt{2}^n} \\sum\\limits_{x \\in \\{0,1\\}^n } |x\\rangle \\frac{|0\\rangle - |1\\rangle}{\\sqrt{2}} \\right] \\\\\n",
    "&= \\frac{1}{\\sqrt{2}^n} \\sum\\limits_{x \\in \\{ 0,1 \\}^n} |x\\rangle \\frac{ |f_s(x)\\rangle - |1 \\oplus f_s(x) \\rangle }{\\sqrt{2}} \\\\\n",
    "&= \\frac{1}{\\sqrt{2}^n} \\sum\\limits_{x \\in \\{ 0,1 \\}^n} |x\\rangle \\frac{ |x \\cdot s \\rangle - |1 \\oplus (x \\cdot s) \\rangle }{\\sqrt{2}}\n",
    "\\end{aligned}\n",
    "$$\n",
    "\n",
    "Since $x \\cdot s$ can only take values $0$ or $1$, we rewrite the expression accordingly:\n",
    "\n",
    "$$\n",
    "\\begin{aligned}\n",
    "U_f |\\psi_1\\rangle &= \\frac{1}{\\sqrt{2}^n} \\sum\\limits_{x \\in \\{ 0,1 \\}^n} |x\\rangle \\frac{ |x \\cdot s \\rangle - |1 \\oplus (x \\cdot s) \\rangle }{\\sqrt{2}} \\\\\n",
    "&= \\frac{1}{\\sqrt{2}^n} \\sum\\limits_{x \\in \\{ 0,1 \\}^n} \\left( -1 \\right)^{x \\cdot s} |x\\rangle \\frac{ | 0 \\rangle - |1  \\rangle }{\\sqrt{2}} \\\\\n",
    "&= |\\psi_2\\rangle\n",
    "\\end{aligned}\n",
    "$$\n",
    "\n",
    "To extract $s$, we apply another Hadamard transformation to the first $n$ qubits:\n",
    "\n",
    "$$\n",
    "\\begin{aligned}\n",
    "\\left[ H^{\\otimes n} \\otimes I \\right] |\\psi_2 \\rangle \n",
    "&= \\frac{1}{2^n} \\sum\\limits_{x \\in \\{ 0,1 \\}^n} \\sum\\limits_{y \\in \\{ 0,1 \\}^n} \\left( -1 \\right)^{x \\cdot s} \\left( -1 \\right)^{x \\cdot y} |y\\rangle \\frac{|0 \\rangle - | 1 \\rangle}{\\sqrt{2}} \\\\\n",
    "&= \\frac{1}{2^n} \\sum\\limits_{y \\in \\{ 0,1 \\}^n} \\sum\\limits_{x \\in \\{ 0,1 \\}^n} \\left( -1 \\right)^{x \\cdot s \\oplus x \\cdot y} |y\\rangle \\frac{|0 \\rangle - | 1 \\rangle}{\\sqrt{2}} \\\\\n",
    "&= \\sum\\limits_{y \\in \\{ 0,1 \\}^n} \\sum\\limits_{x \\in \\{ 0,1 \\}^n} \\frac{1}{2^n} \\left( -1 \\right)^{x \\cdot( s \\oplus y )} |y\\rangle \\frac{|0 \\rangle - | 1 \\rangle}{\\sqrt{2}}\n",
    "\\end{aligned}\n",
    "$$\n",
    "\n",
    "The probability of measuring outcome $y \\in \\{ 0,1 \\}^n$ is:\n",
    "$$\n",
    "P( y ) = \\left| \\sum\\limits_{ x \\in \\{ 0,1 \\}^n } \\frac{ \\left( -1 \\right)^{x \\cdot (s \\oplus y) }}{2^n} \\right|^2.\n",
    "$$\n",
    "\n",
    " - If $s \\neq y$:\n",
    "   Then given that $2^{n-1}$ of times $x \\cdot (s \\oplus y) = 0$, and the other $2^{n-1}$ of times $x \\cdot (s \\oplus y) = 1$, it follows that $P(y) = 0$. \n",
    "\n",
    " - if $s = y$: Then $s \\oplus y = s \\oplus s = 2s = 0 \\mod 2$ and $x \\cdot 0 = 0$, hence $\\sum\\limits_{x \\in \\{ 0,1 \\}^n } (-1)^0= \\sum\\limits_{x \\in \\{ 0,1 \\}^n} 1 = 2^n$. Therefore, it follows that $P(y) = \\left| \\frac{2^n}{2^n} \\right|^2 = 1$, hence the quantum state collapses to the state $s = y$, thereby revealing $s$. "
   ]
  },
  {
   "cell_type": "markdown",
   "id": "7b221384-8ebb-4eb1-bf29-e89d8593e26f",
   "metadata": {},
   "source": [
    "### Qiskit Implementation"
   ]
  },
  {
   "cell_type": "code",
   "execution_count": 1,
   "id": "9138b25a-204d-4ab9-b1c2-30058fe99c0c",
   "metadata": {},
   "outputs": [],
   "source": [
    "from qiskit import QuantumCircuit, transpile\n",
    "from qiskit.visualization import plot_histogram\n",
    "from qiskit_aer import Aer\n",
    "\n",
    "import random"
   ]
  },
  {
   "cell_type": "code",
   "execution_count": 2,
   "id": "b8d33383-aff7-4c03-a737-5e88b995600f",
   "metadata": {},
   "outputs": [],
   "source": [
    "def bv_oracle(secret_string):\n",
    "    n = len(secret_string)\n",
    "    oracle = QuantumCircuit(n+1)\n",
    "\n",
    "    for wire_index, bit in enumerate(reversed(secret_string)):\n",
    "        if bit == \"1\":\n",
    "            oracle.cx(wire_index,n)\n",
    "\n",
    "    return oracle"
   ]
  },
  {
   "cell_type": "code",
   "execution_count": 3,
   "id": "ea308b04-0f2f-4175-a0ff-2d569a98bae5",
   "metadata": {},
   "outputs": [],
   "source": [
    "def bv_circuit(secret_string):\n",
    "    n = len(secret_string)\n",
    "    qc = QuantumCircuit(n+1, n)\n",
    "    \n",
    "    qc.x(n)\n",
    "    qc.barrier()\n",
    "\n",
    "    qc.h(range(n+1))\n",
    "    qc.barrier()\n",
    "\n",
    "    qc.append(bv_oracle(secret_string).to_gate(), range(n+1))\n",
    "    qc.barrier()\n",
    "\n",
    "    qc.h(range(n))\n",
    "\n",
    "    qc.measure(range(n), range(n))\n",
    "\n",
    "    return qc"
   ]
  },
  {
   "cell_type": "code",
   "execution_count": 4,
   "id": "6c3080bc-f723-4d9a-98c2-24282ed4b417",
   "metadata": {},
   "outputs": [],
   "source": [
    "secret_string = \"010101\""
   ]
  },
  {
   "cell_type": "code",
   "execution_count": 5,
   "id": "3e3a3b7f-8f6b-4b34-a0c3-996bd3f2a766",
   "metadata": {},
   "outputs": [
    {
     "data": {
      "text/html": [
       "<pre style=\"word-wrap: normal;white-space: pre;background: #fff0;line-height: 1.1;font-family: &quot;Courier New&quot;,Courier,monospace\">           ░ ┌───┐ ░ ┌──────────────┐ ░ ┌───┐┌─┐               \n",
       "q_0: ──────░─┤ H ├─░─┤0             ├─░─┤ H ├┤M├───────────────\n",
       "           ░ ├───┤ ░ │              │ ░ ├───┤└╥┘┌─┐            \n",
       "q_1: ──────░─┤ H ├─░─┤1             ├─░─┤ H ├─╫─┤M├────────────\n",
       "           ░ ├───┤ ░ │              │ ░ ├───┤ ║ └╥┘┌─┐         \n",
       "q_2: ──────░─┤ H ├─░─┤2             ├─░─┤ H ├─╫──╫─┤M├─────────\n",
       "           ░ ├───┤ ░ │              │ ░ ├───┤ ║  ║ └╥┘┌─┐      \n",
       "q_3: ──────░─┤ H ├─░─┤3 circuit-163 ├─░─┤ H ├─╫──╫──╫─┤M├──────\n",
       "           ░ ├───┤ ░ │              │ ░ ├───┤ ║  ║  ║ └╥┘┌─┐   \n",
       "q_4: ──────░─┤ H ├─░─┤4             ├─░─┤ H ├─╫──╫──╫──╫─┤M├───\n",
       "           ░ ├───┤ ░ │              │ ░ ├───┤ ║  ║  ║  ║ └╥┘┌─┐\n",
       "q_5: ──────░─┤ H ├─░─┤5             ├─░─┤ H ├─╫──╫──╫──╫──╫─┤M├\n",
       "     ┌───┐ ░ ├───┤ ░ │              │ ░ └───┘ ║  ║  ║  ║  ║ └╥┘\n",
       "q_6: ┤ X ├─░─┤ H ├─░─┤6             ├─░───────╫──╫──╫──╫──╫──╫─\n",
       "     └───┘ ░ └───┘ ░ └──────────────┘ ░       ║  ║  ║  ║  ║  ║ \n",
       "c: 6/═════════════════════════════════════════╩══╩══╩══╩══╩══╩═\n",
       "                                              0  1  2  3  4  5 </pre>"
      ],
      "text/plain": [
       "           ░ ┌───┐ ░ ┌──────────────┐ ░ ┌───┐┌─┐               \n",
       "q_0: ──────░─┤ H ├─░─┤0             ├─░─┤ H ├┤M├───────────────\n",
       "           ░ ├───┤ ░ │              │ ░ ├───┤└╥┘┌─┐            \n",
       "q_1: ──────░─┤ H ├─░─┤1             ├─░─┤ H ├─╫─┤M├────────────\n",
       "           ░ ├───┤ ░ │              │ ░ ├───┤ ║ └╥┘┌─┐         \n",
       "q_2: ──────░─┤ H ├─░─┤2             ├─░─┤ H ├─╫──╫─┤M├─────────\n",
       "           ░ ├───┤ ░ │              │ ░ ├───┤ ║  ║ └╥┘┌─┐      \n",
       "q_3: ──────░─┤ H ├─░─┤3 circuit-163 ├─░─┤ H ├─╫──╫──╫─┤M├──────\n",
       "           ░ ├───┤ ░ │              │ ░ ├───┤ ║  ║  ║ └╥┘┌─┐   \n",
       "q_4: ──────░─┤ H ├─░─┤4             ├─░─┤ H ├─╫──╫──╫──╫─┤M├───\n",
       "           ░ ├───┤ ░ │              │ ░ ├───┤ ║  ║  ║  ║ └╥┘┌─┐\n",
       "q_5: ──────░─┤ H ├─░─┤5             ├─░─┤ H ├─╫──╫──╫──╫──╫─┤M├\n",
       "     ┌───┐ ░ ├───┤ ░ │              │ ░ └───┘ ║  ║  ║  ║  ║ └╥┘\n",
       "q_6: ┤ X ├─░─┤ H ├─░─┤6             ├─░───────╫──╫──╫──╫──╫──╫─\n",
       "     └───┘ ░ └───┘ ░ └──────────────┘ ░       ║  ║  ║  ║  ║  ║ \n",
       "c: 6/═════════════════════════════════════════╩══╩══╩══╩══╩══╩═\n",
       "                                              0  1  2  3  4  5 "
      ]
     },
     "execution_count": 5,
     "metadata": {},
     "output_type": "execute_result"
    }
   ],
   "source": [
    "qc = bv_circuit(secret_string)\n",
    "qc.draw()"
   ]
  },
  {
   "cell_type": "code",
   "execution_count": 6,
   "id": "406666a2-a6e5-4ac6-af49-721f597468b5",
   "metadata": {},
   "outputs": [],
   "source": [
    "backend = Aer.get_backend('qasm_simulator')"
   ]
  },
  {
   "cell_type": "code",
   "execution_count": 7,
   "id": "fd602965-9916-4ed3-b9bc-9fcd4917b20f",
   "metadata": {},
   "outputs": [],
   "source": [
    "compiled_circuit = transpile(qc, backend)"
   ]
  },
  {
   "cell_type": "code",
   "execution_count": 8,
   "id": "21cd53ee-ccdf-45da-9c57-e5bee11623e4",
   "metadata": {},
   "outputs": [
    {
     "data": {
      "text/html": [
       "<pre style=\"word-wrap: normal;white-space: pre;background: #fff0;line-height: 1.1;font-family: &quot;Courier New&quot;,Courier,monospace\">           ░ ┌───┐ ░                 ░ ┌───┐┌─┐               \n",
       "q_0: ──────░─┤ H ├─░───■─────────────░─┤ H ├┤M├───────────────\n",
       "           ░ ├───┤ ░   │             ░ ├───┤└╥┘┌─┐            \n",
       "q_1: ──────░─┤ H ├─░───┼─────────────░─┤ H ├─╫─┤M├────────────\n",
       "           ░ ├───┤ ░   │             ░ ├───┤ ║ └╥┘┌─┐         \n",
       "q_2: ──────░─┤ H ├─░───┼────■────────░─┤ H ├─╫──╫─┤M├─────────\n",
       "           ░ ├───┤ ░   │    │        ░ ├───┤ ║  ║ └╥┘┌─┐      \n",
       "q_3: ──────░─┤ H ├─░───┼────┼────────░─┤ H ├─╫──╫──╫─┤M├──────\n",
       "           ░ ├───┤ ░   │    │        ░ ├───┤ ║  ║  ║ └╥┘┌─┐   \n",
       "q_4: ──────░─┤ H ├─░───┼────┼────■───░─┤ H ├─╫──╫──╫──╫─┤M├───\n",
       "           ░ ├───┤ ░   │    │    │   ░ ├───┤ ║  ║  ║  ║ └╥┘┌─┐\n",
       "q_5: ──────░─┤ H ├─░───┼────┼────┼───░─┤ H ├─╫──╫──╫──╫──╫─┤M├\n",
       "     ┌───┐ ░ ├───┤ ░ ┌─┴─┐┌─┴─┐┌─┴─┐ ░ └───┘ ║  ║  ║  ║  ║ └╥┘\n",
       "q_6: ┤ X ├─░─┤ H ├─░─┤ X ├┤ X ├┤ X ├─░───────╫──╫──╫──╫──╫──╫─\n",
       "     └───┘ ░ └───┘ ░ └───┘└───┘└───┘ ░       ║  ║  ║  ║  ║  ║ \n",
       "c: 6/════════════════════════════════════════╩══╩══╩══╩══╩══╩═\n",
       "                                             0  1  2  3  4  5 </pre>"
      ],
      "text/plain": [
       "           ░ ┌───┐ ░                 ░ ┌───┐┌─┐               \n",
       "q_0: ──────░─┤ H ├─░───■─────────────░─┤ H ├┤M├───────────────\n",
       "           ░ ├───┤ ░   │             ░ ├───┤└╥┘┌─┐            \n",
       "q_1: ──────░─┤ H ├─░───┼─────────────░─┤ H ├─╫─┤M├────────────\n",
       "           ░ ├───┤ ░   │             ░ ├───┤ ║ └╥┘┌─┐         \n",
       "q_2: ──────░─┤ H ├─░───┼────■────────░─┤ H ├─╫──╫─┤M├─────────\n",
       "           ░ ├───┤ ░   │    │        ░ ├───┤ ║  ║ └╥┘┌─┐      \n",
       "q_3: ──────░─┤ H ├─░───┼────┼────────░─┤ H ├─╫──╫──╫─┤M├──────\n",
       "           ░ ├───┤ ░   │    │        ░ ├───┤ ║  ║  ║ └╥┘┌─┐   \n",
       "q_4: ──────░─┤ H ├─░───┼────┼────■───░─┤ H ├─╫──╫──╫──╫─┤M├───\n",
       "           ░ ├───┤ ░   │    │    │   ░ ├───┤ ║  ║  ║  ║ └╥┘┌─┐\n",
       "q_5: ──────░─┤ H ├─░───┼────┼────┼───░─┤ H ├─╫──╫──╫──╫──╫─┤M├\n",
       "     ┌───┐ ░ ├───┤ ░ ┌─┴─┐┌─┴─┐┌─┴─┐ ░ └───┘ ║  ║  ║  ║  ║ └╥┘\n",
       "q_6: ┤ X ├─░─┤ H ├─░─┤ X ├┤ X ├┤ X ├─░───────╫──╫──╫──╫──╫──╫─\n",
       "     └───┘ ░ └───┘ ░ └───┘└───┘└───┘ ░       ║  ║  ║  ║  ║  ║ \n",
       "c: 6/════════════════════════════════════════╩══╩══╩══╩══╩══╩═\n",
       "                                             0  1  2  3  4  5 "
      ]
     },
     "execution_count": 8,
     "metadata": {},
     "output_type": "execute_result"
    }
   ],
   "source": [
    "compiled_circuit.draw()"
   ]
  },
  {
   "cell_type": "code",
   "execution_count": 9,
   "id": "98428400-a99f-4c58-ae8c-f950bcde1bda",
   "metadata": {},
   "outputs": [],
   "source": [
    "result = backend.run(compiled_circuit).result()"
   ]
  },
  {
   "cell_type": "code",
   "execution_count": 10,
   "id": "fffab1d0-3547-40ac-b80f-7c96de2b9693",
   "metadata": {},
   "outputs": [
    {
     "name": "stdout",
     "output_type": "stream",
     "text": [
      "Measurement outcome: {'010101': 1024}\n"
     ]
    }
   ],
   "source": [
    "counts = result.get_counts()\n",
    "print(\"Measurement outcome:\", counts)"
   ]
  },
  {
   "cell_type": "code",
   "execution_count": 11,
   "id": "15d376dc-c6ed-47b2-bb0e-8996ebe1e1f3",
   "metadata": {},
   "outputs": [],
   "source": [
    "def run_bv_algorithm(secret_string):\n",
    "    qc = bv_circuit(secret_string)\n",
    "\n",
    "    backend = Aer.get_backend('qasm_simulator')\n",
    "    compiled_circuit = transpile(qc, backend)\n",
    "    result = backend.run(compiled_circuit).result()\n",
    "    counts = result.get_counts()\n",
    "\n",
    "    compiled_circuit.draw('mpl')  # Draws the circuit\n",
    "    plot_histogram(counts)\n",
    "    \n",
    "    return counts, compiled_circuit"
   ]
  },
  {
   "cell_type": "code",
   "execution_count": 12,
   "id": "16da6465-c27c-414a-8665-6d5e08637cfb",
   "metadata": {},
   "outputs": [],
   "source": [
    "counts, qc = run_bv_algorithm(\"110\")"
   ]
  },
  {
   "cell_type": "code",
   "execution_count": 13,
   "id": "d408ebb7-2f66-489b-88cf-485931179f1b",
   "metadata": {},
   "outputs": [
    {
     "data": {
      "image/png": "[encoded data removed]",
      "text/plain": [
       "<Figure size 1040x451.5 with 1 Axes>"
      ]
     },
     "execution_count": 13,
     "metadata": {},
     "output_type": "execute_result"
    }
   ],
   "source": [
    "qc.draw('mpl')  # Draws the circuit"
   ]
  },
  {
   "cell_type": "code",
   "execution_count": 14,
   "id": "5fa5b1b9-80a3-451e-ba15-1ceb42031bde",
   "metadata": {},
   "outputs": [],
   "source": [
    "random_string = \"\".join([str(random.randint(0,1)) for i in range(5)])"
   ]
  },
  {
   "cell_type": "code",
   "execution_count": 15,
   "id": "5afc2fa3-fce6-48cd-a5b1-33d8b6fbd986",
   "metadata": {},
   "outputs": [],
   "source": [
    "counts, qc = run_bv_algorithm(random_string)"
   ]
  },
  {
   "cell_type": "code",
   "execution_count": 16,
   "id": "b0682195-6144-4958-a72b-10f8afd98497",
   "metadata": {},
   "outputs": [
    {
     "name": "stdout",
     "output_type": "stream",
     "text": [
      "{'01110': 1024}\n"
     ]
    }
   ],
   "source": [
    "print(counts)"
   ]
  },
  {
   "cell_type": "code",
   "execution_count": 17,
   "id": "9ee68461-b9b8-4c9a-8a70-f20c636fe43c",
   "metadata": {},
   "outputs": [
    {
     "data": {
      "text/plain": [
       "True"
      ]
     },
     "execution_count": 17,
     "metadata": {},
     "output_type": "execute_result"
    }
   ],
   "source": [
    "list(counts.keys())[0] == random_string"
   ]
  },
  {
   "cell_type": "markdown",
   "id": "8aed15d0-b51c-44ea-8602-8163bcd3e432",
   "metadata": {},
   "source": [
    "We observe that using quantum Bernstein-Vazirani algorithm, the Bernstein-Vazirani problem is solved using only one query! "
   ]
  },
  {
   "cell_type": "markdown",
   "id": "c7469519-2327-4e82-b0d4-767cd59e0e3b",
   "metadata": {},
   "source": [
    "### Classical Algorithm\n",
    "\n",
    "To solve the Bernstein-Vazirani algorithm with a classical approach, we query the oracle with carefully chosen inputs. Each query extracts one bit of $s$, requiring a total of $n$ queries.\n",
    "\n",
    "$$\n",
    "\\begin{aligned}\n",
    "f_s(100 \\dots 0) &= \\left( 1,0,0, \\dots, 0 \\right) \\cdot s = (1 \\cdot s_1) \\oplus (0 \\cdot s_2) \\oplus \\dots \\oplus (0 \\cdot s_n) = s_1 \\\\\n",
    "f_s(010 \\dots 0) &= \\left( 0,1,0, \\dots, 0 \\right) \\cdot s = (0 \\cdot s_1) \\oplus (1 \\cdot s_2) \\oplus \\dots \\oplus (0 \\cdot s_n) = s_2 \\\\\n",
    "\\vdots \\\\\n",
    "f_s(000 \\dots 1) &= \\left( 0,0,0, \\dots, 1 \\right) \\cdot s = (0 \\cdot s_1) \\oplus (0 \\cdot s_2) \\oplus \\dots \\oplus (1 \\cdot s_n) = s_n\n",
    "\\end{aligned}\n",
    "$$\n",
    "\n",
    "Since each query extracts exactly one bit of $s$, we require $n$ oracle calls to fully recover $s$."
   ]
  },
  {
   "cell_type": "markdown",
   "id": "69760fab-d72d-4805-b465-8e8c186e7a94",
   "metadata": {},
   "source": [
    "### Quantum and Classical: Complexity Comparison"
   ]
  },
  {
   "attachments": {},
   "cell_type": "markdown",
   "id": "e96bddfe-cef9-438f-86c9-381e45ba616f",
   "metadata": {},
   "source": [
    "Therefore, the time complexity of solving the Bernstein-Vazirani problem is $\\mathcal{O}(n)$ using classical computers and $\\mathcal{O}(1)$ using quantum computers.Unlike the Deutsch-Jozsa algorithm, the classical complexity for Bernstein-Vazirani remains the same across the best, worst, and average cases. Hence, Bernstein-Vazirani algorithm serves as a linear speedup over its classical counterpart. \n",
    "\n",
    "Note that  the circuit structure of the Deutsch-Jozsa and Bernstein-Vazirani algorithms is identical: an $X$ gate is applied to the ancillary qubit, followed by a Hadamard layer, then the oracle, another Hadamard layer, and finally, measurement of the first $n$ qubits.\n",
    "\n",
    "The main difference lies in how the oracle $U_f$ is defined. This implies, that for different oracles, we observe different speedups: exponential vs linear.\n",
    "\n",
    "This raises an intriguing question: Can we design other oracles that enable speedup while using the same circuit architecture? If so, what conditions must these oracles satisfy?\n",
    "\n",
    "For further discussions on quantum speedups enabled by oracle functions, lower bounds on quantum advantages, and separations between quantum and classical computation, see:\n",
    "\n",
    " - [Quantum Lower Bounds by Polynomials](https://arxiv.org/abs/quant-ph/9802049) by Robert Beals, Harry Buhrman, Richard Cleve, Michele Mosca, Ronald de Wolf. 1998.\n",
    " - [Quantum Lower Bound for the Collision Problem](https://arxiv.org/abs/quant-ph/0111102) by Scott Aaronson. 2001.\n",
    " - [Forrelation: A Problem that Optimally Separates Quantum from Classical Computing](https://arxiv.org/abs/1411.5729) by Scott Aaronson, Andris Ambainis. 2014.\n",
    " - [Oracle separation of BQP and PH](https://dl.acm.org/doi/10.1145/3313276.3316315) by Ran Raz, Avishay Tal. 2019. "
   ]
  },
  {
   "cell_type": "markdown",
   "id": "f6b7f0f3-fb37-40e7-a289-7ad517bb3388",
   "metadata": {},
   "source": [
    "---\n",
    "### Appendices\n",
    "---"
   ]
  },
  {
   "cell_type": "markdown",
   "id": "fe95fddb-5ba2-4d3c-89c5-f7a45e8a000d",
   "metadata": {},
   "source": [
    "### Appendix 1: Biography\n",
    "\n",
    " - [Umesh Vazirani](https://en.wikipedia.org/wiki/Umesh_Vazirani) has been a professor at the  University of California, Berkeley. His research interests lie primarily in quantum computing, and he has supervised numerous distinguished researchers in the field, inclduing Dr. Ethan Bernstein, Dr. Scott Aaronson and Dr. Thomas Vidick. His work in quantum cryptography and complexity theory has shaped modern research on quantum security and device-independent protocols.\n",
    "\n",
    " - Ethan Bernstein, a student of Dr. Vazirani, made foundational contributions to quantum computing, particularly in quantum complexity theory."
   ]
  },
  {
   "cell_type": "markdown",
   "id": "f9704994-b9f5-4988-a412-af0f19ce8eca",
   "metadata": {},
   "source": [
    "---\n",
    "### Appendix 2: References "
   ]
  },
  {
   "cell_type": "markdown",
   "id": "7ba3fb55-ff80-4cd3-bc91-795ec633c8fa",
   "metadata": {},
   "source": [
    "\n",
    "1. Ethan Bernstein and Umesh Vazirani *Quantum Complexity Theory.* In Proceedings of the 25th Annual ACM Symposium on Theory of Computing (STOC 1993, pp. 11–20, Association for Computing Machinery, New York, NY, 1993. DOI: [10.1145/167088.167097](https://doi.org/10.1145/167088.167097).  \n",
    "\n",
    "2. Ethan Bernstein and Umesh Vazirani. *Quantum Complexity Theory.* SIAM Journal on Computing, Vol. 26, No. 5, pp. 1411–1473, 1997. DOI: [10.1137/S0097539796300921](https://doi.org/10.1137/S0097539796300921).<sup>1</sup>\n",
    "\n",
    "<sup>1</sup> The 1997 SIAM Journal paper builds on the 1993 STOC conference version. As stated in the 1997 paper:  \n",
    "*\"A preliminary version of this paper appeared in Proc. 25th Annual ACM Symposium on Theory of Computing, Association for Computing Machinery, New York, NY, 1993, pp. 11–20.\"*"
   ]
  },
  {
   "cell_type": "markdown",
   "id": "a1b1342c-9b99-4cd4-b8f5-74993bd5eac9",
   "metadata": {},
   "source": [
    "---"
   ]
  },
  {
   "cell_type": "markdown",
   "id": "cddacde5-ebc6-4ef5-ab56-78d9fb958378",
   "metadata": {},
   "source": [
    "### Appendix 3: Bernstein–Vazirani Algoithm in `pytket`"
   ]
  },
  {
   "cell_type": "markdown",
   "id": "9d936fe6-e7d1-4320-a559-8733a69ed3a1",
   "metadata": {},
   "source": [
    "`pytket` is a quantum programming framework developed by [Quantinuum](https://www.quantinuum.com/) in Python that provides a highly optimized, hardware-agnostic compiler for quantum circuits.\n",
    "\n",
    "For more information, see: https://github.com/CQCL/pytket-quantinuum. "
   ]
  },
  {
   "cell_type": "code",
   "execution_count": 18,
   "id": "0f9c658d-344a-4d7f-a3a3-2bb3dd25f02c",
   "metadata": {},
   "outputs": [],
   "source": [
    "from pytket import Circuit\n",
    "from pytket.extensions.qiskit import AerBackend\n",
    "from pytket.circuit.display import render_circuit_jupyter"
   ]
  },
  {
   "cell_type": "code",
   "execution_count": 19,
   "id": "9b1e3783-cb14-4499-812d-672a3b5e5c72",
   "metadata": {},
   "outputs": [],
   "source": [
    "def bv_oracle_tket(secret_string: str):\n",
    "    n = len(secret_string)\n",
    "    oracle = Circuit(n + 1)\n",
    "    \n",
    "    for wire_index, bit in enumerate(secret_string):\n",
    "        if bit == \"1\":\n",
    "            oracle.CX(wire_index, n)\n",
    "    \n",
    "    return oracle"
   ]
  },
  {
   "cell_type": "code",
   "execution_count": 20,
   "id": "8d166e00-0982-47a9-a8d4-12256620fa92",
   "metadata": {},
   "outputs": [],
   "source": [
    "def bv_circuit_tket(secret_string: str) -> Circuit:\n",
    "    n = len(secret_string)\n",
    "    qc = Circuit(n + 1, n)  # n+1 qubits, n classical bits\n",
    "    \n",
    "    # Initial state preparation\n",
    "    qc.X(n)  # X gate on ancilla qubit\n",
    "    \n",
    "    # Add barrier (in pytket, barriers are mostly for visualization)\n",
    "    qc.add_barrier(list(range(n + 1)))\n",
    "    \n",
    "    # Apply H gates to all qubits\n",
    "    for i in range(n + 1):\n",
    "        qc.H(i)\n",
    "    \n",
    "    qc.add_barrier(list(range(n + 1)))\n",
    "    \n",
    "    # Append oracle\n",
    "    oracle = bv_oracle_tket(secret_string)\n",
    "    qc.append(oracle)\n",
    "    \n",
    "    qc.add_barrier(list(range(n + 1)))\n",
    "    \n",
    "    # Apply H gates to all qubits except ancilla\n",
    "    for i in range(n):\n",
    "        qc.H(i)\n",
    "    \n",
    "    # Measure qubits (except ancilla)\n",
    "    for i in range(n):\n",
    "        qc.Measure(i, i) \n",
    "    \n",
    "    return qc"
   ]
  },
  {
   "cell_type": "code",
   "execution_count": 21,
   "id": "3eabf5ac-ff39-418b-a6a9-4eb63818a979",
   "metadata": {},
   "outputs": [],
   "source": [
    "# Run the circuit\n",
    "secret_string = \"010101\"\n",
    "circuit = bv_circuit_tket(secret_string)"
   ]
  },
  {
   "cell_type": "code",
   "execution_count": 22,
   "id": "2b7f773d-4d2e-41c5-aefc-e1990c63e5c1",
   "metadata": {},
   "outputs": [
    {
     "data": {
      "text/html": [
       "\n",
       "\n",
       "\n",
       "\n",
       "\n",
       "\n",
       "<div style=\"resize: vertical; overflow: auto; height: 400px; display: block\">\n",
       "    <iframe srcdoc=\"\n",
       "&lt;!DOCTYPE html&gt;\n",
       "&lt;html lang=&#34;en&#34;&gt;\n",
       "&lt;head&gt;\n",
       "    &lt;meta charset=&#34;UTF-8&#34;&gt;\n",
       "    &lt;!-- Download Vue 3--&gt;\n",
       "&lt;script type=&#34;application/javascript&#34; src=&#34;https://cdn.jsdelivr.net/npm/vue@3&#34;&gt;&lt;/script&gt;\n",
       "&lt;!-- Download Circuit Renderer with styles --&gt;\n",
       "&lt;script type=&#34;application/javascript&#34; src=&#34;https://unpkg.com/pytket-circuit-renderer@0.10/dist/pytket-circuit-renderer.umd.js&#34;&gt;&lt;/script&gt;\n",
       "&lt;link rel=&#34;stylesheet&#34; href=&#34;https://unpkg.com/pytket-circuit-renderer@0.10/dist/pytket-circuit-renderer.css&#34;&gt;\n",
       "&lt;/head&gt;\n",
       "&lt;body&gt;\n",
       "\n",
       "\n",
       "    &lt;div id=&#34;circuit-display-vue-container-0f18a38f-e8b2-4ffd-b26e-3f3f953b4e5f&#34; class=&#34;pytket-circuit-display-container&#34;&gt;\n",
       "        &lt;div style=&#34;display: none&#34;&gt;\n",
       "            &lt;div id=&#34;circuit-json-to-display&#34;&gt;{&#34;bits&#34;: [[&#34;c&#34;, [0]], [&#34;c&#34;, [1]], [&#34;c&#34;, [2]], [&#34;c&#34;, [3]], [&#34;c&#34;, [4]], [&#34;c&#34;, [5]]], &#34;commands&#34;: [{&#34;args&#34;: [[&#34;q&#34;, [6]]], &#34;op&#34;: {&#34;type&#34;: &#34;X&#34;}}, {&#34;args&#34;: [[&#34;q&#34;, [0]], [&#34;q&#34;, [1]], [&#34;q&#34;, [2]], [&#34;q&#34;, [3]], [&#34;q&#34;, [4]], [&#34;q&#34;, [5]], [&#34;q&#34;, [6]]], &#34;op&#34;: {&#34;data&#34;: &#34;&#34;, &#34;signature&#34;: [&#34;Q&#34;, &#34;Q&#34;, &#34;Q&#34;, &#34;Q&#34;, &#34;Q&#34;, &#34;Q&#34;, &#34;Q&#34;], &#34;type&#34;: &#34;Barrier&#34;}}, {&#34;args&#34;: [[&#34;q&#34;, [0]]], &#34;op&#34;: {&#34;type&#34;: &#34;H&#34;}}, {&#34;args&#34;: [[&#34;q&#34;, [1]]], &#34;op&#34;: {&#34;type&#34;: &#34;H&#34;}}, {&#34;args&#34;: [[&#34;q&#34;, [2]]], &#34;op&#34;: {&#34;type&#34;: &#34;H&#34;}}, {&#34;args&#34;: [[&#34;q&#34;, [3]]], &#34;op&#34;: {&#34;type&#34;: &#34;H&#34;}}, {&#34;args&#34;: [[&#34;q&#34;, [4]]], &#34;op&#34;: {&#34;type&#34;: &#34;H&#34;}}, {&#34;args&#34;: [[&#34;q&#34;, [5]]], &#34;op&#34;: {&#34;type&#34;: &#34;H&#34;}}, {&#34;args&#34;: [[&#34;q&#34;, [6]]], &#34;op&#34;: {&#34;type&#34;: &#34;H&#34;}}, {&#34;args&#34;: [[&#34;q&#34;, [0]], [&#34;q&#34;, [1]], [&#34;q&#34;, [2]], [&#34;q&#34;, [3]], [&#34;q&#34;, [4]], [&#34;q&#34;, [5]], [&#34;q&#34;, [6]]], &#34;op&#34;: {&#34;data&#34;: &#34;&#34;, &#34;signature&#34;: [&#34;Q&#34;, &#34;Q&#34;, &#34;Q&#34;, &#34;Q&#34;, &#34;Q&#34;, &#34;Q&#34;, &#34;Q&#34;], &#34;type&#34;: &#34;Barrier&#34;}}, {&#34;args&#34;: [[&#34;q&#34;, [1]], [&#34;q&#34;, [6]]], &#34;op&#34;: {&#34;type&#34;: &#34;CX&#34;}}, {&#34;args&#34;: [[&#34;q&#34;, [3]], [&#34;q&#34;, [6]]], &#34;op&#34;: {&#34;type&#34;: &#34;CX&#34;}}, {&#34;args&#34;: [[&#34;q&#34;, [5]], [&#34;q&#34;, [6]]], &#34;op&#34;: {&#34;type&#34;: &#34;CX&#34;}}, {&#34;args&#34;: [[&#34;q&#34;, [0]], [&#34;q&#34;, [1]], [&#34;q&#34;, [2]], [&#34;q&#34;, [3]], [&#34;q&#34;, [4]], [&#34;q&#34;, [5]], [&#34;q&#34;, [6]]], &#34;op&#34;: {&#34;data&#34;: &#34;&#34;, &#34;signature&#34;: [&#34;Q&#34;, &#34;Q&#34;, &#34;Q&#34;, &#34;Q&#34;, &#34;Q&#34;, &#34;Q&#34;, &#34;Q&#34;], &#34;type&#34;: &#34;Barrier&#34;}}, {&#34;args&#34;: [[&#34;q&#34;, [0]]], &#34;op&#34;: {&#34;type&#34;: &#34;H&#34;}}, {&#34;args&#34;: [[&#34;q&#34;, [1]]], &#34;op&#34;: {&#34;type&#34;: &#34;H&#34;}}, {&#34;args&#34;: [[&#34;q&#34;, [2]]], &#34;op&#34;: {&#34;type&#34;: &#34;H&#34;}}, {&#34;args&#34;: [[&#34;q&#34;, [3]]], &#34;op&#34;: {&#34;type&#34;: &#34;H&#34;}}, {&#34;args&#34;: [[&#34;q&#34;, [4]]], &#34;op&#34;: {&#34;type&#34;: &#34;H&#34;}}, {&#34;args&#34;: [[&#34;q&#34;, [5]]], &#34;op&#34;: {&#34;type&#34;: &#34;H&#34;}}, {&#34;args&#34;: [[&#34;q&#34;, [0]], [&#34;c&#34;, [0]]], &#34;op&#34;: {&#34;type&#34;: &#34;Measure&#34;}}, {&#34;args&#34;: [[&#34;q&#34;, [1]], [&#34;c&#34;, [1]]], &#34;op&#34;: {&#34;type&#34;: &#34;Measure&#34;}}, {&#34;args&#34;: [[&#34;q&#34;, [2]], [&#34;c&#34;, [2]]], &#34;op&#34;: {&#34;type&#34;: &#34;Measure&#34;}}, {&#34;args&#34;: [[&#34;q&#34;, [3]], [&#34;c&#34;, [3]]], &#34;op&#34;: {&#34;type&#34;: &#34;Measure&#34;}}, {&#34;args&#34;: [[&#34;q&#34;, [4]], [&#34;c&#34;, [4]]], &#34;op&#34;: {&#34;type&#34;: &#34;Measure&#34;}}, {&#34;args&#34;: [[&#34;q&#34;, [5]], [&#34;c&#34;, [5]]], &#34;op&#34;: {&#34;type&#34;: &#34;Measure&#34;}}], &#34;created_qubits&#34;: [], &#34;discarded_qubits&#34;: [], &#34;implicit_permutation&#34;: [[[&#34;q&#34;, [0]], [&#34;q&#34;, [0]]], [[&#34;q&#34;, [1]], [&#34;q&#34;, [1]]], [[&#34;q&#34;, [2]], [&#34;q&#34;, [2]]], [[&#34;q&#34;, [3]], [&#34;q&#34;, [3]]], [[&#34;q&#34;, [4]], [&#34;q&#34;, [4]]], [[&#34;q&#34;, [5]], [&#34;q&#34;, [5]]], [[&#34;q&#34;, [6]], [&#34;q&#34;, [6]]]], &#34;phase&#34;: &#34;0.0&#34;, &#34;qubits&#34;: [[&#34;q&#34;, [0]], [&#34;q&#34;, [1]], [&#34;q&#34;, [2]], [&#34;q&#34;, [3]], [&#34;q&#34;, [4]], [&#34;q&#34;, [5]], [&#34;q&#34;, [6]]]}&lt;/div&gt;\n",
       "        &lt;/div&gt;\n",
       "        &lt;circuit-display-container\n",
       "                :circuit-element-str=&#34;&#39;#circuit-json-to-display&#39;&#34;\n",
       "                :init-render-options=&#34;initRenderOptions&#34;\n",
       "                view-format=&#34;None&#34;\n",
       "        &gt;&lt;/circuit-display-container&gt;\n",
       "    &lt;/div&gt;\n",
       "    &lt;script type=&#34;application/javascript&#34;&gt;\n",
       "      const circuitRendererUid = &#34;0f18a38f-e8b2-4ffd-b26e-3f3f953b4e5f&#34;;\n",
       "      const displayOptions = JSON.parse(&#39;{}&#39;);\n",
       "\n",
       "      // Script to initialise the circuit renderer app\n",
       "\n",
       "const { createApp } = Vue;\n",
       "const circuitDisplayContainer = window[&#34;pytket-circuit-renderer&#34;].default;\n",
       "// Init variables to be shared between circuit display instances\n",
       "if (typeof window.pytketCircuitDisplays === &#34;undefined&#34;) {\n",
       "    window.pytketCircuitDisplays = {};\n",
       "}\n",
       "// Create the root Vue component\n",
       "const app = createApp({\n",
       "    delimiters: [&#39;[[#&#39;, &#39;#]]&#39;],\n",
       "    components: { circuitDisplayContainer },\n",
       "    data () {\n",
       "      return {\n",
       "        initRenderOptions: displayOptions,\n",
       "      }\n",
       "    }\n",
       "})\n",
       "app.config.unwrapInjectedRef = true;\n",
       "app.mount(&#34;#circuit-display-vue-container-&#34;+circuitRendererUid);\n",
       "window.pytketCircuitDisplays[circuitRendererUid] = app;\n",
       "    &lt;/script&gt;\n",
       "\n",
       "\n",
       "\n",
       "&lt;/body&gt;\n",
       "&lt;/html&gt;\n",
       "\"\n",
       "            width=\"100%\" height=\"100%\"\n",
       "            style=\"border: none; outline: none; overflow: auto\"></iframe>\n",
       "</div>\n",
       "\n"
      ],
      "text/plain": [
       "<IPython.core.display.HTML object>"
      ]
     },
     "metadata": {},
     "output_type": "display_data"
    }
   ],
   "source": [
    "render_circuit_jupyter(circuit)"
   ]
  },
  {
   "cell_type": "code",
   "execution_count": 23,
   "id": "4a682fef-51ac-4e7c-a339-6eacbfd95823",
   "metadata": {},
   "outputs": [
    {
     "name": "stdout",
     "output_type": "stream",
     "text": [
      "Measurement outcome: Counter({(0, 1, 0, 1, 0, 1): 1024})\n"
     ]
    }
   ],
   "source": [
    "backend = AerBackend()\n",
    "compiled_circuit = backend.get_compiled_circuit(circuit)\n",
    "\n",
    "# Run the circuit\n",
    "shots = 1000\n",
    "handle = backend.process_circuit(compiled_circuit)\n",
    "result = backend.get_result(handle)\n",
    "\n",
    "# Get counts\n",
    "counts = result.get_counts()\n",
    "print(\"Measurement outcome:\", counts)"
   ]
  },
  {
   "cell_type": "code",
   "execution_count": null,
   "id": "34a254ff-e033-4c1a-86ab-3331273bc243",
   "metadata": {},
   "outputs": [],
   "source": []
  }
 ],
 "metadata": {
  "kernelspec": {
   "display_name": "Python 3 (ipykernel)",
   "language": "python",
   "name": "python3"
  },
  "language_info": {
   "codemirror_mode": {
    "name": "ipython",
    "version": 3
   },
   "file_extension": ".py",
   "mimetype": "text/x-python",
   "name": "python",
   "nbconvert_exporter": "python",
   "pygments_lexer": "ipython3",
   "version": "3.12.4"
  }
 },
 "nbformat": 4,
 "nbformat_minor": 5
}
