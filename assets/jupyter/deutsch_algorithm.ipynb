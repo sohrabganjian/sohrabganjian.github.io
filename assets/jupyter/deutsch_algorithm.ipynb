{
 "cells": [
  {
   "cell_type": "markdown",
   "id": "cb3b9f17",
   "metadata": {},
   "source": [
    "# Introduction to Deutsch's Algorithm\n",
    "\n",
    "In this notebook, we explore [**Deutsch's Algorithm**](https://en.wikipedia.org/wiki/Deutsch%E2%80%93Jozsa_algorithm), one of the foundational algorithms in quantum computing. Deutsch's Algorithm demonstrates how a quantum computer can solve certain types of problems more efficiently than a classical computer by leveraging superposition and interference. Here, we will walk through the steps of the algorithm, verify its correctness, and observe how it achieves a quantum advantage over classical methods. By the end of this notebook, we will gain insights into the power of quantum algorithms and understand how Deutsch's Algorithm exemplifies quantum speedup.\n"
   ]
  },
  {
   "cell_type": "markdown",
   "id": "561667fd-c406-48bb-9e94-663b1e481591",
   "metadata": {},
   "source": [
    "# Table of Contents\n",
    "1. **Boolean Function: A Prerequisite**\n",
    "2. **Optimal Classical Strategy**\n",
    "3. **Quantum Strategy**\n",
    "4. **The Phase Kickback Trick**\n",
    "5. **$U_f$ as a unitary operator**\n",
    "6. **Deutsch Algorithm in Qiskit**\n",
    "7. **Classical vs Quantum Comparison**\n",
    "8. **Nature of symmetry in the problem and source of quantum speedup**\n",
    "9. **No Entanglement**\n",
    "\n",
    "## Appendices\n",
    "10. **Appendix 1: Biography**\n",
    "11. **Appendix 2: Flipped Controlled Gate**\n",
    "12. **Appendix 3: Deutsch Algoithm in PennyLane and Cirq**"
   ]
  },
  {
   "cell_type": "markdown",
   "id": "94bde0cc",
   "metadata": {},
   "source": [
    "---\n",
    "## Boolean Function: A Prerequisite\n",
    "\n",
    "To understand the Deutsch problem, we first need to introduce the concept of a **Boolean function**. A Boolean function is a function that takes one or more binary inputs and produces a binary output. In the case of Deutsch's problem, we focus on a specific type of Boolean function:\n",
    "\n",
    "$$\n",
    "f : \\{ 0, 1\\} \\to \\{ 0, 1\\}\n",
    "$$\n",
    "\n",
    "This function takes a single binary input (0 or 1) and returns a binary output (0 or 1). Given that there are only two possible input values, there are four possible configurations of $f$:\n",
    "\n",
    "1. $f_1(0) = 0$ and $f_1(1) = 0$ (constant function, always returns 0)\n",
    "2. $f_2(0) = 1$ and $f_2(1) = 1$ (constant function, always returns 1)\n",
    "3. $f_3(0) = 0$ and $f_3(1) = 1$ (balanced function, returns different values for each input)\n",
    "4. $f_4(0) = 1$ and $f_4(1) = 0$ (balanced function, returns different values for each input)\n"
   ]
  },
  {
   "cell_type": "markdown",
   "id": "cdb67d08",
   "metadata": {},
   "source": [
    "### Definitions\n",
    "\n",
    "**Algorithm**: A computational procedure that defines the logic for solving a problem, including interacting with an oracle.\n",
    "\n",
    "**Oracle**: A black-box function that provides outputs for specific inputs without revealing its inner workings."
   ]
  },
  {
   "cell_type": "markdown",
   "id": "c1153806",
   "metadata": {},
   "source": [
    "## Problem Statement"
   ]
  },
  {
   "cell_type": "markdown",
   "id": "fbdbf8ee",
   "metadata": {},
   "source": [
    "Given a Boolean function $ f : \\{0, 1\\} \\to \\{0, 1\\} $. The function $f$ can be one of two types:\n",
    "\n",
    "1. **Constant**: $f(0) = f(1)$, meaning the function returns the same output for both inputs.\n",
    "2. **Balanced (Variable)**: $f(0) \\neq f(1) $, meaning the function returns different outputs for each input.\n",
    "\n",
    "Our goal is to determine whether the function $ f $ is **constant** or **balanced** by querying it as few times as possible."
   ]
  },
  {
   "cell_type": "markdown",
   "id": "90a7cf3f",
   "metadata": {},
   "source": [
    "---\n",
    "### Optimal Classical Strategy"
   ]
  },
  {
   "cell_type": "markdown",
   "id": "0e701de9",
   "metadata": {},
   "source": [
    "Using a classical oracle, the oracle algorithm can evaluate the oracle twice to determine $f$ deterministically. The two queries are the minimal number required to achieve a correct result deterministically. To see this, consider an algorithm that queries $f(0)$ and receives the output $0$. At this stage, $f$ could either be the constant function that always returns $0$ or a balanced function that returns $1$ when evaluated at $1$. Therefore, the query algorithm cannot conclusively deduce what $f$ is at this point. With a second query, the query algorithm learns that $f(1) = 0$, and it can now definitively deduce that $f$ is a constant function. \n",
    "\n",
    "In conclusion, the optimal classical strategy requries two queries to dedude the function $f$ deterministacally. \n",
    "\n",
    "The question is: Can a quantum strategy yield a better result? "
   ]
  },
  {
   "cell_type": "markdown",
   "id": "09c600ec",
   "metadata": {},
   "source": [
    "---\n",
    "### Quantum Strategy\n",
    "\n",
    "Deutsch devised a quantum algorithm that upon evaluating the oracle once, will determinstacally reveal whether $f$ is constant or balanced. \n",
    "\n",
    "First, we look at the proposed circuit by Deutsch and then we analyze its correctness: "
   ]
  },
  {
   "cell_type": "code",
   "execution_count": 1,
   "id": "b3f435a4",
   "metadata": {},
   "outputs": [
    {
     "data": {
      "image/png": "[encoded data removed]",
      "text/plain": [
       "<Figure size 1000x500 with 1 Axes>"
      ]
     },
     "metadata": {},
     "output_type": "display_data"
    }
   ],
   "source": [
    "import matplotlib.pyplot as plt\n",
    "\n",
    "from qiskit import QuantumCircuit\n",
    "from qiskit.visualization import circuit_drawer\n",
    "from qiskit.quantum_info import Operator\n",
    "from qiskit_aer import Aer\n",
    "\n",
    "import numpy as np\n",
    "\n",
    "import random\n",
    "\n",
    "# Generate the circuit\n",
    "circuit = QuantumCircuit(2, 1)\n",
    "\n",
    "# Layer 1: Initialization\n",
    "circuit.x(1)  # Apply X gate to the second qubit\n",
    "circuit.barrier() \n",
    "\n",
    "# Layer 2: Apply Hadamard gates\n",
    "circuit.h([0, 1])  # Apply Hadamard to both qubits\n",
    "\n",
    "# Layer 3: Oracle\n",
    "circuit.unitary([[1, 0, 0, 0], [0, 1, 0, 0], [0, 0, 0, 1], [0, 0, 1, 0]], [0, 1], label=\"U_f(x)\")\n",
    "\n",
    "# Layer 4: Hadamard and Measurement\n",
    "circuit.h(0)  # Apply Hadamard to the first qubit\n",
    "circuit.measure(0, 0)  # Measure the first qubit\n",
    "\n",
    "# Draw the circuit with matplotlib\n",
    "fig, ax = plt.subplots(figsize=(10, 5))\n",
    "circuit_drawer(circuit, output='mpl', ax=ax)\n",
    "\n",
    "# Add annotations for each layer\n",
    "ax.annotate(r\"$|\\psi_1\\rangle$\", xy=(0.18, -0), xycoords=\"axes fraction\", fontsize=22, color=\"black\", fontweight=\"bold\")\n",
    "ax.annotate(r\"$|\\psi_2\\rangle$\", xy=(0.43, 0), xycoords=\"axes fraction\", fontsize=22, color=\"black\", fontweight=\"bold\")\n",
    "ax.annotate(r\"$|\\psi_3\\rangle$\", xy=(0.6, 0), xycoords=\"axes fraction\", fontsize=22, color=\"black\", fontweight=\"bold\")\n",
    "ax.annotate(r\"$|\\psi_4\\rangle$\", xy=(0.78, 0), xycoords=\"axes fraction\", fontsize=22, color=\"black\", fontweight=\"bold\")\n",
    "\n",
    "plt.show()\n"
   ]
  },
  {
   "cell_type": "markdown",
   "id": "e7fd331d",
   "metadata": {},
   "source": [
    "Description: Two qubits are initialized to $|0\\rangle$. An $X$-gate is applied to the second qubit, followed by a layer of Hadamard gates on both qubits. The oracle evaluates the function. A Hadamard gate is applied to the first qubit, and the circuit terminates with a measurement on the first qubit. \n",
    "\n",
    "While the query algorithm does not know the inner workings of the oracle, it is guaranteed that the oracle $U_{f(x)}$ computes $f(x)$ for a given input $x$ as follows: "
   ]
  },
  {
   "attachments": {
    "Deutsch%20Oracle.JPG": {
     "image/jpeg": "[encoded data removed]"
    }
   },
   "cell_type": "markdown",
   "id": "462d678a",
   "metadata": {},
   "source": [
    "![Deutsch%20Oracle.JPG](attachment:Deutsch%20Oracle.JPG)"
   ]
  },
  {
   "cell_type": "markdown",
   "id": "ab80c736",
   "metadata": {},
   "source": [
    "Next, we prove the correcntess of the algorithm. "
   ]
  },
  {
   "cell_type": "markdown",
   "id": "7ec3a7ab",
   "metadata": {},
   "source": [
    "## $|\\psi_1 \\rangle$:\n",
    "\n",
    "$|\\psi_0 \\rangle = |00 \\rangle$\n",
    "\n",
    "$(I \\otimes X)|\\psi_0 \\rangle = |01\\rangle = | \\psi_1 \\rangle$\n",
    "\n",
    "## $|\\psi_2\\rangle$:\n",
    "\n",
    "$(H \\otimes H) |\\psi_1 \\rangle = |+ \\rangle | - \\rangle = \\frac{1}{2} \\left[ | 00 \\rangle - | 01 \\rangle + | 10 \\rangle - | 11 \\rangle \\right]  = | \\psi_2 \\rangle $ "
   ]
  },
  {
   "cell_type": "markdown",
   "id": "f82fd16b",
   "metadata": {},
   "source": [
    "## $|\\psi_3 \\rangle$:\n",
    "\n",
    "$U_{f(x)} | \\psi_2 \\rangle = \\frac{1}{2} \\left[ | 0 \\rangle | f(0) \\rangle  - | 0 \\rangle | 1 \\oplus f(0) \\rangle + | 1 \\rangle | f(1) \\rangle - | 1 \\rangle | 1 \\oplus f(1) \\rangle  \\right] = | \\psi_3 \\rangle $"
   ]
  },
  {
   "cell_type": "markdown",
   "id": "5214b808",
   "metadata": {},
   "source": [
    "## $|\\psi_4 \\rangle$:\n",
    "\n",
    "$(H \\otimes I) | \\psi_3 \\rangle = \\frac{1}{2} \\left[ H| 0 \\rangle | f(0) \\rangle  - H| 0 \\rangle | 1 \\oplus f(0) \\rangle + H| 1 \\rangle | f(1) \\rangle - H| 1 \\rangle | 1 \\oplus f(1) \\rangle  \\right]$   "
   ]
  },
  {
   "cell_type": "markdown",
   "id": "addda52e",
   "metadata": {},
   "source": [
    "We will apply $H$ to the first qubit of each term: "
   ]
  },
  {
   "cell_type": "markdown",
   "id": "67bd28f4",
   "metadata": {},
   "source": [
    "\n",
    "<ol>\n",
    "<li>$H | 0 \\rangle | f(0) \\rangle = \\frac{1}{\\sqrt{2}} (| 0 \\rangle + | 1 \\rangle) | f(0) \\rangle$</li>\n",
    "\n",
    "<li>$- H | 0 \\rangle | 1 \\oplus f(0) \\rangle = -\\frac{1}{\\sqrt{2}} (| 0 \\rangle + | 1 \\rangle) |1 \\oplus f(0) \\rangle$</li>\n",
    "\n",
    "\n",
    "<li>$H | 1 \\rangle | f(1) \\rangle = \\frac{1}{\\sqrt{2}} (| 0 \\rangle - | 1 \\rangle) | f(1) \\rangle$</li>\n",
    "\n",
    "<li>$- H | 1 \\rangle | 1 \\oplus f(1) \\rangle = -\\frac{1}{\\sqrt{2}} (| 0 \\rangle - | 1 \\rangle) | 1 \\oplus f(1) \\rangle$</li>\n",
    "</ol>\n",
    "\n",
    "Hence $(H \\otimes I) | \\psi_3 \\rangle $ with the factor of $\\frac{1}{2}$ in mind, can be re-written as: \n",
    "\n",
    "$$\n",
    "\\frac{1}{2\\sqrt{2}} \n",
    "\\left[ \n",
    "| 0 \\rangle A + | 1 \\rangle B\n",
    "\\right]\n",
    "$$ \n",
    "\n",
    "where \n",
    "\n",
    "$A = | f(0) \\rangle - | 1 \\oplus f(0) \\rangle + | f(1) \\rangle - | 1 \\oplus f(1) \\rangle $\n",
    "\n",
    "$B = | f(0) \\rangle - | 1 \\oplus f(0) \\rangle \\textcolor{red}{-} | f(1) \\rangle \\textcolor{red}{+} | 1 \\oplus f(1) \\rangle $"
   ]
  },
  {
   "cell_type": "markdown",
   "id": "073c0b3e",
   "metadata": {},
   "source": [
    "Hence, \n",
    "\n",
    "$$(H \\otimes I) | \\psi_3 = \\frac{1}{2\\sqrt{2}} \n",
    "\\left[ \n",
    "| 0 \\rangle A + | 1 \\rangle B\n",
    "\\right] = | \\psi_4 \\rangle$$"
   ]
  },
  {
   "cell_type": "markdown",
   "id": "66977d97",
   "metadata": {},
   "source": [
    "Now, we analyze the the analysis before making the measuremnet into two cases:\n",
    "\n",
    "1. $f(x)$ is constant, that is $f(0) = f(1)$. In that case, $A = 2 | f(0) \\rangle - 2 | 1 \\oplus f(0)\\rangle$ and\n",
    "$B = 0$. \n",
    "Thus, $$| \\psi_4 \\rangle = \\frac{1}{2\\sqrt{2}} | 0 \\rangle \\left[  2 | f(0) \\rangle - 2 | 1 \\oplus f(0)\\rangle \\right] = \\frac{1}{\\sqrt{2}} | 0 \\rangle \\left[ | f(0) \\rangle - | 1 \\oplus f(0)\\rangle \\right] .$$ Since $f(x)$ is a Boolean function, $| f(0) \\rangle - | 1 \\oplus f(0)\\rangle = \\pm | 0  \\rangle \\mp |1 \\rangle \\equiv | - \\rangle $.  Hence, $| \\psi_4 \\rangle = |0 \\rangle | - \\rangle$. \n",
    "\n",
    "\n",
    "2. $f(x)$ is balanced, that is $f(0) \\neq f(1)$. In that case $A = 0$ and with $| 1 \\oplus f(0) \\rangle = | f(1) \\rangle$ and $| f(0) \\rangle = | 1 \\oplus f(1) \\rangle $, we obtain $B = 2 |f(0) \\rangle - 2 | f(1) \\rangle$ and by similar reasoning, it follows that $| \\psi_4 \\rangle = \\frac{1}{\\sqrt{2}} | 1 \\rangle \\left[ | 0 \\rangle - | 1 \\rangle \\right]  =  |1 \\rangle | - \\rangle $.\n",
    "\n",
    "Therefore, we see that if $f(x)$ is constant, then measuring the first qubit of $|\\psi_4 \\rangle$ will yield $0$ deterministically. Conversely, if $f(x)$ is balanced, the measurement returns $1$ deterministically. \n",
    "\n",
    "In conclusion, the query algorithm is capable of determining whether $f$ is constant or balanced deterministically with only making one query. "
   ]
  },
  {
   "cell_type": "markdown",
   "id": "756b2a1d",
   "metadata": {},
   "source": [
    "---\n",
    "### The Phase Kickback Trick "
   ]
  },
  {
   "cell_type": "markdown",
   "id": "12eef809",
   "metadata": {},
   "source": [
    "Phase kickback occurs when a controlled operation applies a phase shift to the target qubit, conditional on the state of the control qubit. This conditional phase shift can induce a phase shift on the control qubit, effectively \"kicking back\" the phase information to the control qubit. \n",
    "\n",
    "Phase kickback requires the following conditions to met: \n",
    "\n",
    "1. The conrtol qubit(s) must be in superposition. \n",
    "2. $| \\psi \\rangle$ must be an eigenvector of controlled operator $U$. \n",
    "3. Operator $U$ must be used in a controlled way. \n",
    "\n",
    "For more information about the requirement for a phase kickback, refer to: \n",
    "\n",
    " - https://en.wikipedia.org/wiki/Phase_kickback#Requirements \n",
    " - https://eduardsmetanin.github.io/PhaseKickback.pdf"
   ]
  },
  {
   "cell_type": "markdown",
   "id": "6db62d9a",
   "metadata": {},
   "source": [
    "Abstactly, suppose we would like to apply the controlled-unitary $CU$ on $| \\psi_{c} \\rangle | \\psi_{t} \\rangle$, where $c$ denotes the control qubit and $t$ denotes the target. Hence $| \\psi_c \\rangle = \\alpha | 0 \\rangle + \\beta | 1 \\rangle$. For phase kickback trick to work, the state $| \\psi_c \\rangle$ has to be in a superposition. \n",
    "\n",
    "$CU$ as a controlled operator has the following decomposition: \n",
    "\n",
    "$$CU = | 0 \\rangle \\langle 0 | \\otimes I + |1 \\rangle \\langle 1 | \\otimes U$$ \n",
    "\n",
    "For phasekick back to work, $| \\psi_{t} \\rangle$ must be an eigenvector of $U$. With $e^{i \\phi}$ as eigenvalue of $U$, it follows that $U | \\psi_{t} \\rangle = e^{i \\phi} | \\psi_{t} \\rangle$. Hence, applying $CU$ on  $| \\psi_{c} \\rangle | \\psi_{t} \\rangle$ yields: \n",
    "\n",
    "$$\n",
    " \\alpha | 0 \\rangle \\otimes | \\psi_t \\rangle + \\beta | 1 \\rangle  \\otimes e^{i \\phi}  | \\psi_t \\rangle \n",
    "= \n",
    "\\left( \\alpha | 0 \\rangle + \\beta e^{i \\phi} | 1 \\rangle \\right) \\otimes | \\psi_t \\rangle . \n",
    "$$\n",
    "\n",
    "The control qubit has a phase factor $e^{i \\phi}$ associated with the $| 1 \\rangle$ component. In other words, the phase $e^{i \\phi}$ has been transferred from the action of $U$ on the target qubit to the control qubit. "
   ]
  },
  {
   "cell_type": "markdown",
   "id": "37633bb9",
   "metadata": {},
   "source": [
    "### Phase Kickback in Deutsch Algorithm"
   ]
  },
  {
   "cell_type": "markdown",
   "id": "5d0aef68",
   "metadata": {},
   "source": [
    "In the Deutsch algorithm, the oracle $U_{f(x)}$ is a controlled operation that maps $U_{f(x)}|x\\rangle |y \\rangle \\mapsto |x \\rangle |y \\oplus f(x) \\rangle$ with $| y \\rangle = | - \\rangle$. \n",
    "\n",
    "If $f(x) = 0$, then $|y \\oplus f(x) \\rangle = | y \\rangle = (-1)^{f(x)} | y \\rangle$. \n",
    "\n",
    "If $f(x) = 1$, then $| y \\oplus f(x) \\rangle = \\frac{1}{\\sqrt{2}} \\left[ | 0 \\oplus 1 \\rangle - | 1 \\oplus 1  \\rangle \\right] = \\frac{1}{\\sqrt{2}} \\left( | 1 \\rangle - | 0 \\rangle  \\right) = - \\frac{1}{\\sqrt{2}} | - \\rangle = (-1)^{f(x)} | y \\rangle$. \n",
    "\n",
    "Therefore, the oracle $U_{f(x)}$ can be understood as a phase kickback operator on the control qubit, where $U_{f(x)}|x\\rangle |y \\rangle \\mapsto (-1)^{f(x)} |x \\rangle |y \\rangle$. It is important to note that $U_{f(x)}$ is not inherently a phase kickback operator. Rather through the specific design choices of the query algorithm, it has been repurposed to function as one.\n",
    "\n",
    "Hence, the overall state of the quantum state after applying $U_{f(x)}$ becomes:  \n",
    "\n",
    "$$\n",
    "| \\psi_3 \\rangle = \\frac{1}{\\sqrt{2}} \\left[ (-1)^{f(0)} | 0 \\rangle | - \\rangle + (-1)^{f(1)} | 1 \\rangle | - \\rangle  \\right]\n",
    "$$\n",
    "\n",
    "Thus, if $f$ is constant, that is, $f(0) = f(1)$, then \n",
    "$| \\psi_3 \\rangle = (-1)^{f(0)} \\frac{1}{\\sqrt{2}} \\left[ | 0 \\rangle | - \\rangle + |1 \\rangle | - \\rangle \\right] \n",
    "= (-1)^{f(0)} | + - \\rangle\n",
    "$. Applying Hadamard yields $| \\psi_4 \\rangle = | 0 - \\rangle$, and measuring the first qubit returs $0$ as before. \n",
    "\n",
    "\n",
    "On the other hand, if $f(x)$ is balanced, that is $f(0) \\neq f(1)$, up to an overall global factor of $\\pm 1$, we can write $| \\psi_3 \\rangle$ as:\n",
    "\n",
    "$$ \\pm \\frac{1}{\\sqrt{2}} \\left( | 0 - \\rangle -  | 1 - \\rangle \\right) = \\pm | - - \\rangle $$\n",
    "\n",
    "Applying a Hadamard on the first qubit, as before, yields $| \\psi_4 \\rangle = \\pm |1 - \\rangle $ and measuring the first qubit returns $1$, as shown previously. \n",
    "\n",
    "In the case of Deutsch's algorithm, $e^{i \\phi}$ can be written as $(-1)^{f(x)}$, although this simplification does not hold in general. Specifically, in Deutsch's algorithm, $\\phi = \\pi \\cdot f(x)$, where $f(x) = \\{ 0,1 \\}$. For this reason, $e^{i \\phi}$ reduces to $(-1)^{f(x)}$. \n",
    "\n",
    "By leveraging of phase kickback, Deutsch's algorithm determines whether $f(x)$ is balanced or constant. "
   ]
  },
  {
   "cell_type": "markdown",
   "id": "9c8df5b7",
   "metadata": {},
   "source": [
    "---\n",
    "### $U_f$ as a unitary operator \n",
    "\n",
    "Quantum oracle $U_f$ is a unitary operator that encodes $f$ into quantum states. Note that while $U_f$ is treated as black-box, it still needs to be a valid unitary operator. As a matter of fact, due to being a unitary operator, $U_f$ cannot be a single-qubit operator, since in that case $U_f$ would not be reversible. Hence $U_f$ must be at least a two-qubit operator. \n",
    "\n",
    "Note that Deutsch's algorithm is a promise problem, that is it is promised that $U_f$ acts in a pre-determined way while keeping $f$ hidden. Specifically, it is promised that $U_f | x \\rangle | y \\rangle = | x \\rangle | y \\oplus f(x) \\rangle$. \n",
    "\n",
    "The next question is, for a particular choice of $f$, how can $U_f$ be constructed. Recall that the set of Boolean functions $f$ such that $f: \\{0,1 \\} \\rightarrow \\{0,1\\}$ consists of four functions, so in total there could be $4$ different implementations of $U_f$ for each $f$. Next we will consider these possibilities: \n",
    "\n",
    "1. $f_1(0) = 0, f_1(1) = 0$: \n",
    "In this case $f(x) = 0$ and $| y \\oplus f(x) \\rangle = | y \\rangle$. Therefore, $U_f$ can easily be construced via $U_f = I \\otimes I$. \n",
    "\n",
    "2. $f_2(0) = 1, f_2(1) = 1$:\n",
    "\n",
    "In this case $| y \\oplus f(x) \\rangle = | y \\oplus 1 \\rangle$, which always introduces a bit flip. Hence\n",
    "$U_f = I \\otimes X$. \n",
    "\n",
    "3. $f_3(0) = 0, f_3(1) = 1$: \n",
    "\n",
    "In this case $| y \\oplus f(x) \\rangle = | y \\oplus 1 \\rangle$ only when $x=1$. That is the bit flip is conditional on $x=1$, which requires the use of $CNOT$ gate and as such $U_f = CNOT$. \n",
    "\n",
    "4. $f_4(0) = 1, f_4(1) = 0$: \n",
    "\n",
    "In this case $| y \\oplus f(x) \\rangle = | y \\oplus 1 \\rangle$ only when $x=0$. Although this is very similar to the third case, it does not quite use the $CNOT$ gate but a gate with a similar flavour. Note that $CNOT$ induces a bit flip when $x=1$. Now, we demand a bit flip only when $x=0$. Such a gate is referred to as negative controlled gate or flipped controlled gate, see: \n",
    "https://quantumcomputing.stackexchange.com/questions/6546/how-do-you-implement-a-negative-controlled-gate-using-the-regular-controlled-gat\n",
    "\n",
    "We denote this gate as $\\overline{CNOT} = (X \\otimes I) \\cdot CNOT \\cdot (X \\otimes I) = |0 \\rangle \\langle 0 | \\otimes X + | 1 \\rangle \\langle 1 | \\otimes I=\n",
    "\\begin{bmatrix}\n",
    " 0 & 1 & 0 & 0 \\\\\n",
    " 1 & 0 & 0 & 0 \\\\\n",
    " 0 & 0 & 1 & 0 \\\\\n",
    " 0 & 0 & 0 & 1\n",
    "\\end{bmatrix}\n",
    "$. "
   ]
  },
  {
   "cell_type": "markdown",
   "id": "d623ce4e-9b16-4f84-bb08-07fcfca4aec6",
   "metadata": {},
   "source": [
    "---\n",
    "### Deutsch Algorithm in Qiskit"
   ]
  },
  {
   "cell_type": "markdown",
   "id": "b33b7b48",
   "metadata": {},
   "source": [
    "Next, we demonstrate the Deutsch algorithm in practice. "
   ]
  },
  {
   "cell_type": "code",
   "execution_count": 2,
   "id": "34b6aa44-76c6-43c0-ba5d-22c18058ca56",
   "metadata": {},
   "outputs": [],
   "source": [
    "def quantum_oracle(qc, n:int):\n",
    "    if n == 1:\n",
    "        qc.id(0)\n",
    "        qc.id(1)\n",
    "        \n",
    "    if n == 2:\n",
    "        qc.id(0)\n",
    "        qc.x(1)\n",
    "        \n",
    "    if n == 3: \n",
    "        qc.cx(0,1)\n",
    "\n",
    "    if n == 4:\n",
    "        # Define the negative controlled-NOT \n",
    "        negative_cnot = np.array(\n",
    "            [[0., 1., 0., 0.],\n",
    "             [1., 0., 0., 0.],\n",
    "             [0., 0., 1., 0.],\n",
    "             [0., 0., 0., 1.]])\n",
    "\n",
    "        n_cnot_gate = Operator(negative_cnot)\n",
    "        # Apply the negative CNOT gate\n",
    "        qc.unitary(n_cnot_gate, [1, 0], label='nCNOT')"
   ]
  },
  {
   "cell_type": "markdown",
   "id": "ed41d270-88f7-4687-b5ce-623c6ca87188",
   "metadata": {},
   "source": [
    "Note we apply `qc.unitary(n_cnot_gate, [1, 0], label='nCNOT')` where `1` is the target qubit and `0` is the control qubit. This order is the reverse of how control and target qubits are typically specified in other quantum packages and textbooks, where the control qubit comes first followed by the target qubit. This is because, for good or bad, qiskit does things a bit differently. The following passage is from [qiskit](https://docs.quantum.ibm.com/api/qiskit/qiskit.circuit.library.CXGate): \n",
    "\n",
    "> In Qiskit’s convention, higher qubit indices are more significant (little endian convention). In many textbooks, controlled gates are presented with the assumption of more significant qubits as control.\n",
    "\n",
    "For more information about the endian convention (big-endian and little-endian), refer to:\n",
    " - https://en.wikipedia.org/wiki/Endianness"
   ]
  },
  {
   "cell_type": "code",
   "execution_count": 3,
   "id": "29aa7480",
   "metadata": {},
   "outputs": [
    {
     "name": "stdout",
     "output_type": "stream",
     "text": [
      "           ░ ┌───┐ ░ ┌────────┐ ░ ┌───┐┌─┐\n",
      "q_0: ──────░─┤ H ├─░─┤1       ├─░─┤ H ├┤M├\n",
      "     ┌───┐ ░ ├───┤ ░ │  nCNOT │ ░ └───┘└╥┘\n",
      "q_1: ┤ X ├─░─┤ H ├─░─┤0       ├─░───────╫─\n",
      "     └───┘ ░ └───┘ ░ └────────┘ ░       ║ \n",
      "c: 1/═══════════════════════════════════╩═\n",
      "                                        0 \n",
      "Measurement outcome: {'1': 1024}\n"
     ]
    }
   ],
   "source": [
    "# Create a quantum circuit with 2 qubits\n",
    "qc = QuantumCircuit(2, 1)\n",
    "\n",
    "qc.x(1)\n",
    "\n",
    "# Add a barrier\n",
    "qc.barrier()\n",
    "\n",
    "# Apply the Hadamard gate to both qubits\n",
    "qc.h(0)\n",
    "qc.h(1)\n",
    "\n",
    "qc.barrier()\n",
    "\n",
    "quantum_oracle(qc, 4)\n",
    "qc.barrier()\n",
    "\n",
    "qc.h(0)\n",
    "\n",
    "# Measure the first qubit\n",
    "qc.measure(0, 0)\n",
    "\n",
    "# Draw the circuit\n",
    "print(qc.draw())\n",
    "\n",
    "# Run the circuit on a qasm simulator to get the measurement outcome\n",
    "backend = Aer.get_backend('qasm_simulator')\n",
    "result = backend.run(qc).result()\n",
    "counts = result.get_counts()\n",
    "print(\"Measurement outcome:\", counts)"
   ]
  },
  {
   "cell_type": "code",
   "execution_count": 4,
   "id": "a6933abd-06f8-481f-92d0-5d0d5cf901ab",
   "metadata": {},
   "outputs": [],
   "source": [
    "def deutsch_algorithm(n: int):\n",
    "    # Create a quantum circuit with 2 qubits and 1 classical bit\n",
    "    qc = QuantumCircuit(2, 1)\n",
    "\n",
    "    # Initialize the second qubit to |1⟩\n",
    "    qc.x(1)\n",
    "\n",
    "    # Add a barrier\n",
    "    qc.barrier()\n",
    "\n",
    "    # Apply the Hadamard gate to both qubits\n",
    "    qc.h(0)\n",
    "    qc.h(1)\n",
    "\n",
    "    qc.barrier()\n",
    "\n",
    "    # Apply the quantum oracle\n",
    "    quantum_oracle(qc, n)\n",
    "\n",
    "    # Add a barrier\n",
    "    qc.barrier()\n",
    "\n",
    "    # Apply the Hadamard gate to the first qubit again\n",
    "    qc.h(0)\n",
    "\n",
    "    # Measure the first qubit\n",
    "    qc.measure(0, 0)\n",
    "\n",
    "    # Draw the circuit\n",
    "    circuit_drawing = qc.draw()\n",
    "\n",
    "    backend = Aer.get_backend('qasm_simulator')\n",
    "    result = backend.run(qc).result()\n",
    "    counts = result.get_counts()\n",
    "\n",
    "    return circuit_drawing, counts"
   ]
  },
  {
   "cell_type": "code",
   "execution_count": 5,
   "id": "103ac0cb-561d-4d64-83fc-7ed16ca92059",
   "metadata": {},
   "outputs": [
    {
     "name": "stdout",
     "output_type": "stream",
     "text": [
      "Random Oracle Number: 3\n",
      "Deutsch Algorithm Output: balanced\n",
      "Actual Function Type: balanced\n"
     ]
    }
   ],
   "source": [
    "random_number = random.randint(1, 4)\n",
    "measured_result = int(list(deutsch_algorithm(random_number)[1].keys())[0])\n",
    "\n",
    "algorithm_decision = \"constant\" if measured_result == 0 else \"balanced\"\n",
    "ground_truth = \"constant\" if random_number in [1,2] else \"balanced\"\n",
    "\n",
    "# Print the results\n",
    "print(\"Random Oracle Number:\", random_number)\n",
    "print(\"Deutsch Algorithm Output:\", algorithm_decision)\n",
    "print(\"Actual Function Type:\", ground_truth)"
   ]
  },
  {
   "cell_type": "markdown",
   "id": "830e8b52-ad36-41d6-8681-d84e07093d25",
   "metadata": {},
   "source": [
    "---\n",
    "### Classical vs Quantum Comparison \n",
    "\n",
    "1. **Query Complexity vs. Circuit Complexity**\n",
    "\n",
    "The Deutsch algorithm utilizes additional quantum operations, including one $X$ gate, three Hadamard gates and a single measurement operator. Despite these supplementary steps, it is argued that the algorithm requires only a single query to determine the solution, in contrast to the two queries required in the optimal classical approach. Here, \"single query\" refers specifically to the number of times the quantum oracle is accessed, irrespective of the circuit's overall gate complexity. While in the standard quantum circuit model, these operations are assumed to have some cost, but in the query complexity model, they are often considered \"free\". That is not meant to suggest they have no practical cost in a real quantum computer, but rather to simplify and isolate the key theoretical insight about query complexity. \n",
    "\n",
    "Having said that, this distinction prompts an important consideration: if solving the problem necessiated a substantially more complex quantum circuit, would the algorithm still be regarded as efficient? Query complexity is a separate theoretical lens: it asks if, in principle, fewer oracle calls are enough for a quantum machine to learn something that would require more oracle calls classically. This difference in the number of queries is what demonstrates a form of quantum advantage, even if the full picture of running the algorithm on a large problem might need a more nuanced efficiency analysis.\n",
    "\n",
    "2. **Partial Information vs. Full Description**\n",
    "\n",
    "The Deutsch problem solves the specific problem of determining whether a function $f$ is \"balanced\" or \"constant\". Further discussion on this topic can be found in 'Nature of symmetry in the problem and source of quantum speedup'. The key point to note is that that the Deutsch algorithm does not provide a full description of $f$; instead, it reveals a specific property of $f$, namely, whether its outputs are balanced or constant. Conversely, the classical solution, while requiring two queries, reveals $f$ completely. That said, two quantum queries are also sufficient to describe $f$ fully. This contrast highlighs the nature of quantum advantage as being problem-specific rather than universally descriptive.  \n",
    "\n"
   ]
  },
  {
   "cell_type": "markdown",
   "id": "d39ae58f-05fb-431a-8624-4440c1a27138",
   "metadata": {},
   "source": [
    "---\n",
    "### Nature of symmetry in the problem and source of quantum speedup "
   ]
  },
  {
   "attachments": {},
   "cell_type": "markdown",
   "id": "dfec8f76-dfbe-4062-9519-80843a6f20ff",
   "metadata": {},
   "source": [
    "Symmetry refers to the invariance properties of the problem under certain transformations. In the context of Deutsch algorithm, it captures how the structure of the function $f: \\{ 0,1 \\} \\rightarrow \\{ 0,1 \\}$ and the decision problem (constant vs. balanced) remain unaffected by specific changes. This symmetry enables the algorithm to learn a global feature of $f$ by evaluating the superposition of $f(0)$ and $f(1)$ via one query. \n",
    "\n",
    "In case $f$ is constant $f(0) = f(1)$, after querying the quantum oracle, we obtain the state $\\frac{1}{\\sqrt{2}} \\left( (-1)^{f(0)} (| 0 \\rangle + | 1 \\rangle)  \\right) \\otimes | - \\rangle $. The quanutm oracle $U_f$ has no physically observable impact on the overall quantum state. \n",
    "\n",
    "On the other hand, when $f$ is balanced $f(0) \\neq f(1)$, and after applying $U_f$ the state becomes $\\pm \\frac{1}{\\sqrt{2}} ( | 0 \\rangle \\textcolor{red}{-} | 1 \\rangle  ) \\otimes | - \\rangle$, which induces a relative phase shift and consequently leaving mark to detect a balanced function. Note that while a global phase has no physical observable significance, a **relative phase shift** is observable. By applying the final Hadamard gate in the last layer of the algorithm, we effectively force this observable quantity to be revealed.\n",
    "\n",
    "For more information refer to:\n",
    "\n",
    " - https://quantumcomputing.stackexchange.com/questions/5125/what-is-the-difference-between-a-relative-phase-and-a-global-phase-in-particula\n",
    "\n",
    "**Global Phase**\n",
    "\n",
    "A global phase is a multiplication of quantum state by a complex scalar of unit magnitude $e^{i \\phi}$. That is, transforming $| \\psi \\rangle$ to $e^{i \\theta} | \\psi \\rangle$ is considered a global phase shift. This transformation has no observable effect. The inner product \n",
    "$$\\langle \\psi | e^{i \\theta} \\psi \\rangle = \\left( \\alpha^\\ast \\langle 0 | + \\beta^\\ast \\langle 1 | \\right) \\cdot \n",
    "\\left( e^{i \\theta} \\alpha | 0 \\rangle + \\beta | 1 \\rangle \\right)\n",
    "= e^{i \\theta} \\left( \\alpha^\\ast \\alpha \\underbrace{\\langle 0 | 0 \\rangle}_{=1} \n",
    "+ \\alpha^\\ast \\beta \\underbrace{\\langle 0 | 1 \\rangle}_{= 0} + \\beta^\\ast \\alpha \\underbrace{\\langle 1 | 0 \\rangle}_{= 0} \n",
    "+ \\beta^\\ast \\beta \\underbrace{\\langle 1 | 1 \\rangle}_{=1} \n",
    "\\right) =\n",
    "e^{i \\theta} \\left( \\underbrace{\\alpha^\\ast \\alpha + \\beta^\\ast \\beta}_{= 1} \\right)\n",
    "= e^{i \\theta}. \n",
    "$$\n",
    "\n",
    "Hence, \n",
    "$$\\left| \\langle \\psi | e^{i \\theta} \\psi \\rangle \\right| = |e^{i \\theta}| = 1$$. \n",
    "\n",
    "Since the inner product of $| \\psi \\rangle$ and $e^{i \\theta} | \\psi \\rangle$ has a magnitude of $1$, the states $| \\psi \\rangle$ and $e^{i \\theta} | \\psi \\rangle$ are consdiered equivalent under global phase. \n",
    "\n",
    "\n",
    "**Relative Phase**\n",
    "\n",
    "A relative phase refers to the phase difference between the compnents of a quantum state. For a single-qubit state, the transformation $| \\psi \\rangle = \\alpha | 0 \\rangle + \\beta | 1 \\rangle \\xrightarrow{U} | \\psi' \\rangle = \\alpha |0 \\rangle + \\textcolor{red}{e^{i \\phi}} \\beta | 1 \\rangle$ induces a phase shift $\\phi$. \n",
    "\n",
    "Unlike global phase, relative phase is physically meaningful as it determines interference patterns and changes the measurement probabilities.  \n",
    "\n",
    "Let $|\\psi\\rangle = \\alpha |0\\rangle + \\beta |1\\rangle$ and $|\\psi'\\rangle = \\alpha |0\\rangle + e^{i\\phi}\\beta |1\\rangle$.\n",
    "\n",
    "The inner product $\\langle \\psi | \\psi' \\rangle$ is:\n",
    "\n",
    "$$\n",
    "\\begin{aligned}\n",
    "\\langle \\psi | \\psi' \\rangle &= (\\alpha^* \\langle 0| + \\beta^* \\langle 1|)(\\alpha |0\\rangle + e^{i\\phi}\\beta |1\\rangle) \\\\\n",
    "&= \\alpha^* \\alpha \\langle 0 | 0\\rangle + e^{i\\phi} \\alpha^* \\beta \\langle 0 | 1\\rangle + \\beta^* \\alpha \\langle 1 | 0\\rangle + e^{i\\phi} \\beta^* \\beta \\langle 1 | 1\\rangle. \\\\\n",
    "&= \\alpha^* \\alpha + e^{i \\phi} \\beta^* \\beta \\\\\n",
    "&= | \\alpha |^2 + |\\beta|^2 e^{i \\phi}.\n",
    "\\end{aligned}\n",
    "$$\n",
    "\n",
    "\n",
    "To compute the magnitude of the inner product:\n",
    "$$\n",
    "|\\langle \\psi | \\psi' \\rangle| = \\sqrt{\\left(\\operatorname{Re}(\\langle \\psi | \\psi' \\rangle)\\right)^2 + \\left(\\operatorname{Im}(\\langle \\psi | \\psi' \\rangle)\\right)^2}.\n",
    "$$\n",
    "\n",
    "Expand $e^{i\\phi}$ using Euler's formula:\n",
    "$$\n",
    "e^{i\\phi} = \\cos\\phi + i\\sin\\phi.\n",
    "$$\n",
    "\n",
    "Thus:\n",
    "$$\n",
    "\\langle \\psi | \\psi' \\rangle = |\\alpha|^2 + |\\beta|^2 (\\cos\\phi + i\\sin\\phi).\n",
    "$$\n",
    "\n",
    "Separate the real and imaginary parts:\n",
    "$$\n",
    "\\operatorname{Re}(\\langle \\psi | \\psi' \\rangle) = |\\alpha|^2 + |\\beta|^2 \\cos\\phi, \\quad \\operatorname{Im}(\\langle \\psi | \\psi' \\rangle) = |\\beta|^2 \\sin\\phi.\n",
    "$$\n",
    "\n",
    "Now compute the magnitude:\n",
    "$$\n",
    "|\\langle \\psi | \\psi' \\rangle| = \\sqrt{\\left(|\\alpha|^2 + |\\beta|^2 \\cos\\phi\\right)^2 + \\left(|\\beta|^2 \\sin\\phi\\right)^2}.\n",
    "$$\n",
    "\n",
    "Expand the first term:\n",
    "$$\n",
    "\\left(|\\alpha|^2 + |\\beta|^2 \\cos\\phi\\right)^2 = |\\alpha|^4 + 2|\\alpha|^2|\\beta|^2 \\cos\\phi + |\\beta|^4 \\cos^2\\phi.\n",
    "$$\n",
    "\n",
    "Add the second term:\n",
    "$$\n",
    "|\\langle \\psi | \\psi' \\rangle| = \\sqrt{|\\alpha|^4 + 2|\\alpha|^2|\\beta|^2 \\cos\\phi + |\\beta|^4 (\\cos^2\\phi + \\sin^2\\phi)}.\n",
    "$$\n",
    "\n",
    "Since $\\cos^2\\phi + \\sin^2\\phi = 1$, we simplify:\n",
    "$$\n",
    "|\\langle \\psi | \\psi' \\rangle| = \\sqrt{|\\alpha|^4 + 2|\\alpha|^2|\\beta|^2 \\cos\\phi + |\\beta|^4}.\n",
    "$$\n",
    "\n",
    "### **Physical Interpretation**\n",
    "- For $\\phi = 0$, $\\cos\\phi = 1$, and the magnitude becomes:\n",
    "$$\n",
    "|\\langle \\psi | \\psi' \\rangle| = |\\alpha|^2 + |\\beta|^2 = 1.\n",
    "$$\n",
    "- For $\\phi = \\pi$, $\\cos\\phi = -1$, and the magnitude becomes:\n",
    "$$\n",
    "|\\langle \\psi | \\psi' \\rangle| = ||\\alpha|^2 - |\\beta|^2|.\n",
    "$$\n",
    "\n",
    "The relative phase $\\phi$ affects the overlap between $|\\psi\\rangle$ and $|\\psi'\\rangle$, demonstrating its role as an observable effect.\n",
    "\n",
    "Note that the overlap between $| \\phi \\rangle $ and $| \\phi' \\rangle$ is minimized when $\\phi = \\pi$. This corresponds to maximizing the distance between $| \\phi \\rangle $ and $| \\phi' \\rangle $. Here is a mathematical proof:\n",
    "\n",
    "The inner product is:\n",
    "$$\n",
    "\\langle \\psi | \\psi' \\rangle = |\\alpha|^4 + 2|\\alpha|^2|\\beta|^2\\cos\\phi + |\\beta|^4.\n",
    "$$\n",
    "\n",
    "### 1. Function to Minimize\n",
    "Define:\n",
    "$$\n",
    "f(\\phi) = |\\alpha|^4 + 2|\\alpha|^2|\\beta|^2\\cos\\phi + |\\beta|^4.\n",
    "$$\n",
    "\n",
    "### 2. Take the Derivative\n",
    "The derivative of $f(\\phi)$ with respect to $\\phi$ is:\n",
    "$$\n",
    "\\frac{d}{d\\phi} f(\\phi) = \\frac{d}{d\\phi} \\left(|\\alpha|^4 + 2|\\alpha|^2|\\beta|^2\\cos\\phi + |\\beta|^4\\right).\n",
    "$$\n",
    "\n",
    "Since $|\\alpha|^4$ and $|\\beta|^4$ are independent of $\\phi$:\n",
    "$$\n",
    "\\frac{d}{d\\phi} f(\\phi) = -2|\\alpha|^2|\\beta|^2\\sin\\phi.\n",
    "$$\n",
    "\n",
    "### 3. Solve for Critical Points\n",
    "Set $\\frac{d}{d\\phi}f(\\phi) = 0$:\n",
    "$$\n",
    "-2|\\alpha|^2|\\beta|^2\\sin\\phi = 0.\n",
    "$$\n",
    "\n",
    "The solutions are:\n",
    "$$\n",
    "\\sin\\phi = 0 \\implies \\phi = 0, \\pi, 2\\pi, \\dots\n",
    "$$\n",
    "\n",
    "### 4. Evaluate $f(\\phi)$ at Critical Points\n",
    "- At $\\phi = 0$:\n",
    "$$\n",
    "f(0) = |\\alpha|^4 + 2|\\alpha|^2|\\beta|^2(1) + |\\beta|^4 = (|\\alpha|^2 + |\\beta|^2)^2 = 1.\n",
    "$$\n",
    "\n",
    "- At $\\phi = \\pi$:\n",
    "$$\n",
    "f(\\pi) = |\\alpha|^4 + 2|\\alpha|^2|\\beta|^2(-1) + |\\beta|^4 = (|\\alpha|^2 - |\\beta|^2)^2.\n",
    "$$\n",
    "\n",
    "Since $(|\\alpha|^2 - |\\beta|^2)^2 \\leq (|\\alpha|^2 + |\\beta|^2)^2$, $f(\\phi)$ is minimized at $\\phi = \\pi$.\n",
    "\n",
    "### 5. Relationship to Distance\n",
    "The distance is:\n",
    "$$\n",
    "D(\\phi) = \\sqrt{1 - |\\langle \\psi | \\psi' \\rangle|^2}.\n",
    "$$\n",
    "\n",
    "- At $\\phi = 0$, $|\\langle \\psi | \\psi' \\rangle| = 1$, so:\n",
    "$$\n",
    "D(0) = \\sqrt{1 - 1^2} = 0.\n",
    "$$\n",
    "\n",
    "- At $\\phi = \\pi$, $|\\langle \\psi | \\psi' \\rangle| = ||\\alpha|^2 - |\\beta|^2|$, so:\n",
    "$$\n",
    "D(\\pi) = \\sqrt{1 - (|\\alpha|^2 - |\\beta|^2)^2}.\n",
    "$$\n",
    "\n",
    "The inner product $|\\langle \\psi | \\psi' \\rangle|$ is minimized at $\\phi = \\pi$, which corresponds to the maximum distance $D(\\phi)$ between the states. This confirms that $\\phi = \\pi$ introduces the largest distinguishability between the states.\n",
    "\n",
    "\n",
    "### **Effect of the Phase Shift**\n",
    "The phase shift $\\phi$ introduces terms involving $e^{i\\phi}$, which alter the interference between the $|0\\rangle$ and $|1\\rangle$ components. This change impacts measurable probabilities, making the relative phase $\\phi$ observable through interference or transformation-based measurements.\n",
    "\n",
    "\n",
    "The Deutsch algorithm leverages the concept of maximizing the relative phase difference to distinguish between the cases of a constant versus a balanced function with a single query, achieving its quantum advantage. "
   ]
  },
  {
   "cell_type": "markdown",
   "id": "216e2f6e-9e93-414c-8860-a22c29640730",
   "metadata": {},
   "source": [
    "### Inducing a Relative Phase Shift\n",
    "\n"
   ]
  },
  {
   "cell_type": "markdown",
   "id": "26594cd7-bbc3-4ec5-b812-f4b9f3a64497",
   "metadata": {},
   "source": [
    "1. **Parameterized Phase Gate**\n",
    "\n",
    "   Relative phase $\\phi$ can be induced via the parameterized phase gate:\n",
    "   $$\n",
    "   P(\\phi) = \n",
    "   \\begin{bmatrix} \n",
    "   1 & 0 \\\\ \n",
    "   0 & e^{i \\phi} \n",
    "   \\end{bmatrix}.\n",
    "   $$\n",
    "\n",
    "   For a qubit state $| \\psi \\rangle = \\alpha | 0 \\rangle + \\beta | 1 \\rangle$, applying the phase gate results in:\n",
    "   $$\n",
    "   P(\\phi) | \\psi \\rangle = \\alpha | 0 \\rangle + \\beta e^{i \\phi} | 1 \\rangle.  \n",
    "   $$\n",
    "\n",
    "   The phase gate is a special case of the $R_z (\\theta)$ rotation gate, specifically when $\\theta = 2 \\phi$. The relationship is:\n",
    "   $$\n",
    "   R_z(\\theta) = \\begin{bmatrix} \n",
    "   e^{-i \\frac{\\theta}{2}} & 0 \\\\\n",
    "   0 & e^{i \\frac{\\theta}{2}}\n",
    "   \\end{bmatrix},\n",
    "   $$\n",
    "   whereas: \n",
    "   $$\n",
    "   P(\\phi) = \\begin{bmatrix} \n",
    "   1 & 0 \\\\\n",
    "   0 & e^{i \\phi}\n",
    "   \\end{bmatrix}.\n",
    "   $$\n",
    "\n",
    "   Thus, $P(\\phi) = R_z (2 \\phi)$ up to a global phase factor. \n",
    "\n",
    "2. **Phase Kickback**\n",
    "\n",
    "   Another method for inducing a relative phase shift is via phase kickback, which has already been explored. Phase kickback refers to the phenomenon where a phase shift applied to a target qubit during a controlled operation gets \"kicked back\" to the control qubit as a relative phase.\n"
   ]
  },
  {
   "cell_type": "markdown",
   "id": "2a9d1f0e-f5c6-477a-b5c9-c9ea4d481b48",
   "metadata": {},
   "source": [
    "### Making a Relative Phase Shift Observable"
   ]
  },
  {
   "cell_type": "markdown",
   "id": "2aa9185d-3ce0-4dad-9f4d-9c4c93cb911c",
   "metadata": {},
   "source": [
    "To observe the effect of a relative phase shift, a transformation is required to convert phase information into measurable amplitude differences. In the Deutsch algorithm, the Hadamard gate serves this purpose by mapping the relative phase into distinct amplitudes for \n",
    "$| 0 \\rangle$ and  $| 1 \\rangle$."
   ]
  },
  {
   "cell_type": "markdown",
   "id": "8ac3cece-6d27-4604-8df6-f4e9feddd5bd",
   "metadata": {},
   "source": [
    "---\n",
    "### No Entanglement\n",
    "\n",
    "In the computations performed in the Deutsch algorithm, entanglement is not use, even when considering the quantum oracle as a unitary operator and the presence of a controlled-NOT gate in the balanced cases of $f$, along with Hadamard gates, which are typically associated with creating entanglement.\n",
    "\n",
    "While this result may be surprising, as quantum speedup is often intuitively linked to entanglement, the Deutsch algorithm demonstrates that entanglement is not a necessary requirement for achieving quantum speedup. That said, the scope of quantum speedup can be argued to be quite limited in the absence of entanglement. For instance, achieving exponential speedup over classical computation requires the presence of multi-partite entanglement\n",
    "\n",
    "See: [On the role of entanglement in quantum computational speed-up](https://arxiv.org/abs/quant-ph/0201143)."
   ]
  },
  {
   "cell_type": "markdown",
   "id": "285c2920-3805-4738-bcdf-c12d2409103a",
   "metadata": {},
   "source": [
    "---\n",
    "# Appendices"
   ]
  },
  {
   "cell_type": "markdown",
   "id": "107b117a-3036-4ace-9db7-50d590f9924d",
   "metadata": {},
   "source": [
    "---\n",
    "### Appendix 1: Biography"
   ]
  },
  {
   "cell_type": "markdown",
   "id": "b4b6e139-cceb-4beb-a04e-112ab7c52697",
   "metadata": {},
   "source": [
    "[David Deutsch](https://en.wikipedia.org/wiki/David_Deutsch) (born 18 May 1953), a British physicist, widely regarded as one of the pioneers of quantum computing. He is known for his foundational work in quantum mechanics, quantum computation, and the philosophy of science.\n",
    "\n",
    "The original paper by David Deutsch, which introduced what is now known as Deutsch's algorithm, can be accessed here:\n",
    "https://www.cs.princeton.edu/courses/archive/fall04/cos576/papers/deutsch85.pdf"
   ]
  },
  {
   "cell_type": "markdown",
   "id": "ec56df8c-9b5f-475b-8c5b-d5ec31ae89ac",
   "metadata": {
    "jp-MarkdownHeadingCollapsed": true
   },
   "source": [
    "---\n",
    "### Appendix 2: Flipped Controlled Gate\n",
    "\n",
    "We have a controlled unitary gate $CU$, where:\n",
    "- The control qubit is the first qubit, and\n",
    "- The target qubit is the second qubit.\n",
    "\n",
    "The gate $CU$ applies the unitary $U$ to the target qubit only when the control qubit is in the state $|1\\rangle:\n",
    "$$\n",
    "CU = |0\\rangle\\langle 0| \\otimes I + |1\\rangle\\langle 1| \\otimes U.\n",
    "$$\n",
    "\n",
    "Now, we want to create a flipped controlled gate, denoted as $\\overline{CU}$, that applies $U$ to the target qubit only when the control qubit is in the state $|0\\rangle$:\n",
    "\n",
    "$$\n",
    "\\overline{CU} = |0\\rangle\\langle 0| \\otimes U + |1\\rangle\\langle 1| \\otimes I.\n",
    "$$\n",
    "\n",
    "### What We Are Trying to Show\n",
    "We hypothesize that the flipped controlled gate can be obtained by conjugating $CU$ with the Pauli-X gate applied to the control qubit. Specifically:\n",
    "$$\n",
    "(X \\otimes I) \\cdot CU \\cdot (X \\otimes I) = \\overline{CU}.\n",
    "$$\n",
    "\n",
    "Our goal is to prove this equivalence step-by-step using the operator definitions without relying on specific input states."
   ]
  },
  {
   "cell_type": "markdown",
   "id": "24a8cacc-f2ff-4b75-81c7-903e488473dc",
   "metadata": {},
   "source": [
    "We aim to prove:\n",
    "$$\n",
    "(X \\otimes I) \\cdot CU \\cdot (X \\otimes I) = \\overline{CU},\n",
    "$$\n",
    "where:\n",
    "- $CU = |0\\rangle\\langle 0| \\otimes I + |1\\rangle\\langle 1| \\otimes U$,\n",
    "- $\\overline{CU} = |0\\rangle\\langle 0| \\otimes U + |1\\rangle\\langle 1| \\otimes I$,\n",
    "- $X = |1\\rangle\\langle 0| + |0\\rangle\\langle 1|$ swaps $|0\\rangle \\leftrightarrow |1\\rangle$.\n",
    "\n",
    "<hr style=\"width: 50%; margin: auto; border: 1px solid gray;\">\n",
    "\n",
    "\n",
    "### Proof\n",
    "Start with:\n",
    "$$\n",
    "(X \\otimes I) \\cdot CU \\cdot (X \\otimes I) = (X \\otimes I) \\Big( (|0\\rangle\\langle 0| \\otimes I) + (|1\\rangle\\langle 1| \\otimes U) \\Big) (X \\otimes I).\n",
    "$$\n",
    "\n",
    "#### Expand Each Term\n",
    "1. First term:\n",
    "   $$\n",
    "   (X \\otimes I) (|0\\rangle\\langle 0| \\otimes I) (X \\otimes I).\n",
    "   $$\n",
    "   Using $X |0\\rangle\\langle 0| X = |1\\rangle\\langle 1|$:\n",
    "   $$\n",
    "   = |1\\rangle\\langle 1| \\otimes I.\n",
    "   $$\n",
    "\n",
    "2. Second term:\n",
    "   $$\n",
    "   (X \\otimes I) (|1\\rangle\\langle 1| \\otimes U) (X \\otimes I).\n",
    "   $$\n",
    "   Using $X |1\\rangle\\langle 1| X = |0\\rangle\\langle 0|$:\n",
    "   $$\n",
    "   = |0\\rangle\\langle 0| \\otimes U.\n",
    "   $$\n",
    "\n",
    "#### Combine Results\n",
    "$$\n",
    "(X \\otimes I) \\cdot CU \\cdot (X \\otimes I) = |1\\rangle\\langle 1| \\otimes I + |0\\rangle\\langle 0| \\otimes U.\n",
    "$$\n",
    "\n",
    "Reordering terms:\n",
    "$$\n",
    "(X \\otimes I) \\cdot CU \\cdot (X \\otimes I) = |0\\rangle\\langle 0| \\otimes U + |1\\rangle\\langle 1| \\otimes I.\n",
    "$$\n",
    "\n",
    "<hr style=\"width: 50%; margin: auto; border: 1px solid gray;\">\n",
    "\n",
    "### Conclusion\n",
    "This matches the definition of $\\overline{CU}$:\n",
    "$$\n",
    "\\overline{CU} = |0\\rangle\\langle 0| \\otimes U + |1\\rangle\\langle 1| \\otimes I.\n",
    "$$\n",
    "\n",
    "Thus:\n",
    "$$\n",
    "(X \\otimes I) \\cdot CU \\cdot (X \\otimes I) = \\overline{CU}.\n",
    "$$"
   ]
  },
  {
   "cell_type": "markdown",
   "id": "87511e41-e413-400d-bae2-8cc0a5823242",
   "metadata": {},
   "source": [
    "### Why Does the $X$ Gate Work for Conjugating the Flipped Controlled Gate?\n",
    "\n",
    "The special property of the $X$ gate is that it swaps the computational basis states $| 0 \\rangle$ and $| 1 \\rangle$, effectively flipping the role of the control state in a controlled gate. This swapping property ensures that the \"control logic\" is inverted, enabling the argument to work for constructing the flipped controlled gate.\n",
    "\n",
    "Other gates like the $Z$ gate and Hadamard gate do not induce such flipping, and therefore they are not appropriate choices in this argument."
   ]
  },
  {
   "cell_type": "markdown",
   "id": "b236b006-b773-4d1b-9d83-5b4612e233a3",
   "metadata": {},
   "source": [
    "---\n",
    "### Appendix 3: Deutsch Algoithm in PennyLane and Cirq"
   ]
  },
  {
   "cell_type": "code",
   "execution_count": 6,
   "id": "8446db06-f1ff-4af2-88bf-262b1a7d9446",
   "metadata": {},
   "outputs": [],
   "source": [
    "import pennylane as qml\n",
    "from pennylane import numpy as np"
   ]
  },
  {
   "cell_type": "code",
   "execution_count": 7,
   "id": "bf11df60-3a25-4f03-923c-6c1703e7cf77",
   "metadata": {},
   "outputs": [
    {
     "name": "stdout",
     "output_type": "stream",
     "text": [
      "Measurement outcome: {tensor(0, dtype=int64, requires_grad=True): 1024}\n"
     ]
    }
   ],
   "source": [
    "# Define the quantum oracle in PennyLane\n",
    "def quantum_oracle_pennylane(n: int):\n",
    "    if n == 1:\n",
    "        # Identity gate on both qubits (PennyLane applies identity by default if no operation)\n",
    "        pass\n",
    "\n",
    "    elif n == 2:\n",
    "        # Apply X gate on the second qubit\n",
    "        qml.PauliX(wires=1)\n",
    "\n",
    "    elif n == 3:\n",
    "        # Apply CNOT with control qubit 0 and target qubit 1\n",
    "        qml.CNOT(wires=[0, 1])\n",
    "\n",
    "    elif n == 4:\n",
    "        # Apply negative CNOT gate\n",
    "        negative_cnot = np.array(\n",
    "            [[0., 1., 0., 0.],\n",
    "             [1., 0., 0., 0.],\n",
    "             [0., 0., 1., 0.],\n",
    "             [0., 0., 0., 1.]])\n",
    "        qml.QubitUnitary(negative_cnot, wires=[0, 1])\n",
    "\n",
    "# Create a device with 2 qubits\n",
    "dev = qml.device(\"default.qubit\", wires=2, shots=1024)\n",
    "\n",
    "@qml.qnode(dev)\n",
    "def deutsch_algorithm_pennylane(n):\n",
    "    # Step 1: Apply X gate to the second qubit\n",
    "    qml.PauliX(wires=1)\n",
    "\n",
    "    # Step 2: Apply Hadamard gate to both qubits\n",
    "    qml.Hadamard(wires=0)\n",
    "    qml.Hadamard(wires=1)\n",
    "\n",
    "    # Step 3: Apply the oracle\n",
    "    quantum_oracle_pennylane(n)\n",
    "\n",
    "    # Step 4: Apply Hadamard gate to the first qubit\n",
    "    qml.Hadamard(wires=0)\n",
    "\n",
    "    # Step 5: Measure the first qubit\n",
    "    return qml.sample(wires=0)\n",
    "\n",
    "n = 1\n",
    "measurement_result = deutsch_algorithm_pennylane(n)\n",
    "\n",
    "# Print the measurement outcome\n",
    "unique, counts = np.unique(measurement_result, return_counts=True)\n",
    "print(\"Measurement outcome:\", dict(zip(unique, counts)))"
   ]
  },
  {
   "cell_type": "code",
   "execution_count": 8,
   "id": "1f29447d-9640-4250-ac91-fa7386ddd1e8",
   "metadata": {},
   "outputs": [],
   "source": [
    "import cirq"
   ]
  },
  {
   "cell_type": "code",
   "execution_count": 9,
   "id": "bf75c9ba-c2b7-4ce0-aced-a92a20509335",
   "metadata": {},
   "outputs": [
    {
     "name": "stdout",
     "output_type": "stream",
     "text": [
      "Circuit:\n",
      "              ┌           ┐\n",
      "              │0. 1. 0. 0.│\n",
      "0: ───I───H───│1. 0. 0. 0.│───H───M('result')───\n",
      "              │0. 0. 1. 0.│\n",
      "              │0. 0. 0. 1.│\n",
      "              └           ┘\n",
      "              │\n",
      "1: ───X───H───#2────────────────────────────────\n",
      "Measurement outcome: Counter({1: 1024})\n"
     ]
    }
   ],
   "source": [
    "# Define the quantum oracle\n",
    "def quantum_oracle_cirq(circuit, qubits, n):\n",
    "    if n == 1:\n",
    "        # Identity operation on both qubits\n",
    "        pass\n",
    "    elif n == 2:\n",
    "        # Identity on qubit 0, X on qubit 1\n",
    "        circuit.append([cirq.I(qubits[0]), cirq.X(qubits[1])])\n",
    "    elif n == 3:\n",
    "        # CNOT with qubit 0 as control, qubit 1 as target\n",
    "        circuit.append(cirq.CNOT(qubits[0], qubits[1]))\n",
    "    elif n == 4:\n",
    "        # Define and apply the negative controlled-NOT gate\n",
    "        negative_cnot = np.array([\n",
    "            [0., 1., 0., 0.],\n",
    "            [1., 0., 0., 0.],\n",
    "            [0., 0., 1., 0.],\n",
    "            [0., 0., 0., 1.]\n",
    "        ])\n",
    "        neg_cnot_gate = cirq.MatrixGate(negative_cnot)\n",
    "        circuit.append(neg_cnot_gate.on(qubits[0], qubits[1]))\n",
    "\n",
    "# Create the Cirq circuit\n",
    "def deutsch_algorithm_cirq(n):\n",
    "    # Define two qubits\n",
    "    q0, q1 = cirq.LineQubit.range(2)\n",
    "    \n",
    "    # Create the circuit\n",
    "    circuit = cirq.Circuit()\n",
    "\n",
    "    # Initialize the second qubit to |1⟩\n",
    "    circuit.append([cirq.I(q0), cirq.X(q1)])\n",
    "    \n",
    "    # Apply Hadamard to both qubits\n",
    "    circuit.append([cirq.H(q0), cirq.H(q1)])\n",
    "    \n",
    "    # Apply the quantum oracle\n",
    "    quantum_oracle_cirq(circuit, [q0, q1], n)\n",
    "\n",
    "    # Apply Hadamard to the first qubit\n",
    "    circuit.append(cirq.H(q0))\n",
    "\n",
    "    # Measure the first qubit\n",
    "    circuit.append(cirq.measure(q0, key='result'))\n",
    "\n",
    "    return circuit\n",
    "\n",
    "n = 4\n",
    "circuit = deutsch_algorithm_cirq(n)\n",
    "simulator = cirq.Simulator()\n",
    "result = simulator.run(circuit, repetitions=1024)\n",
    "\n",
    "# Get measurement counts\n",
    "counts = result.histogram(key='result')\n",
    "print(\"Circuit:\")\n",
    "print(circuit)\n",
    "print(\"Measurement outcome:\", counts)"
   ]
  },
  {
   "cell_type": "markdown",
   "id": "94e5c692-bddb-4b7a-96c8-9ffacee900ef",
   "metadata": {},
   "source": [
    "Verification of $(X \\otimes I) \\cdot CNOT \\cdot (X \\otimes I) = |0 \\rangle \\langle 0 | \\otimes X + | 1 \\rangle \\langle 1 | \\otimes I=\n",
    "\\begin{bmatrix}\n",
    " 0 & 1 & 0 & 0 \\\\\n",
    " 1 & 0 & 0 & 0 \\\\\n",
    " 0 & 0 & 1 & 0 \\\\\n",
    " 0 & 0 & 0 & 1\n",
    "\\end{bmatrix}\n",
    "$."
   ]
  },
  {
   "cell_type": "code",
   "execution_count": 10,
   "id": "f23be40f",
   "metadata": {},
   "outputs": [],
   "source": [
    "X = np.array([[0,1],[1,0]])\n",
    "CNOT = np.array([\n",
    "                [1,0,0,0],\n",
    "                [0,1,0,0],\n",
    "                [0,0,0,1],\n",
    "                [0,0,1,0],\n",
    "])"
   ]
  },
  {
   "cell_type": "code",
   "execution_count": 11,
   "id": "7061e30a",
   "metadata": {},
   "outputs": [
    {
     "data": {
      "text/plain": [
       "tensor([[0., 1., 0., 0.],\n",
       "        [1., 0., 0., 0.],\n",
       "        [0., 0., 1., 0.],\n",
       "        [0., 0., 0., 1.]], requires_grad=True)"
      ]
     },
     "execution_count": 11,
     "metadata": {},
     "output_type": "execute_result"
    }
   ],
   "source": [
    "np.kron(X, np.eye(2)) @ CNOT @ np.kron(X, np.eye(2))"
   ]
  },
  {
   "cell_type": "code",
   "execution_count": 12,
   "id": "89255b8e",
   "metadata": {},
   "outputs": [
    {
     "data": {
      "text/plain": [
       "tensor([[0., 1., 0., 0.],\n",
       "        [1., 0., 0., 0.],\n",
       "        [0., 0., 1., 0.],\n",
       "        [0., 0., 0., 1.]], requires_grad=True)"
      ]
     },
     "execution_count": 12,
     "metadata": {},
     "output_type": "execute_result"
    }
   ],
   "source": [
    "np.kron(np.array([[1],[0]])@np.array([[1],[0]]).T, X) + np.kron(np.array([[0],[1]])@np.array([[0],[1]]).T, np.eye(2))"
   ]
  }
 ],
 "metadata": {
  "@webio": {
   "lastCommId": null,
   "lastKernelId": null
  },
  "kernelspec": {
   "display_name": "Python 3 (ipykernel)",
   "language": "python",
   "name": "python3"
  },
  "language_info": {
   "codemirror_mode": {
    "name": "ipython",
    "version": 3
   },
   "file_extension": ".py",
   "mimetype": "text/x-python",
   "name": "python",
   "nbconvert_exporter": "python",
   "pygments_lexer": "ipython3",
   "version": "3.12.4"
  }
 },
 "nbformat": 4,
 "nbformat_minor": 5
}
