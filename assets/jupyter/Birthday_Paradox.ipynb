{
 "cells": [
  {
   "cell_type": "markdown",
   "id": "2f818763-5ec6-4718-9e8d-c00e7b45b87e",
   "metadata": {},
   "source": [
    "### Introduction\n",
    "\n",
    "In this notebook, we explore the **Birthday Paradox**, explain the nature of the apparent paradox, and touch upon related concepts. The Birthday Paradox has important applications in cryptography and collision-based problems, such as hash functions and Simon's Problem.\n",
    "\n",
    "### Table of Contents\n",
    "\n",
    "1. **Statement of the Birthday Paradox**\n",
    "2. **The Paradox**\n",
    "3. **Birthday Paradox Approximation**\n",
    "4. **Related Questions**\n",
    "5. **References and Suggested Resources**"
   ]
  },
  {
   "cell_type": "markdown",
   "id": "83a9f973-6114-4806-9fdd-f32adddfaaca",
   "metadata": {},
   "source": [
    "---\n",
    "\n",
    "### Statement of the Birthday Paradox\n",
    "\n",
    "> Given a group of $n$ people, what is the probability that at least two of them share the same birthday?\n",
    "\n",
    "\n",
    "We assume: \n",
    "\n",
    " - All 365 days are equally likely (ignoring leap years)\n",
    " - Birthdays are independent and uniformly distributed. "
   ]
  },
  {
   "cell_type": "markdown",
   "id": "34dfca3a-4775-4b41-81bb-f1d6bc831d4a",
   "metadata": {},
   "source": [
    "To answer the birthday paradox, we first compute the probability of the complement: the probability that no two people share the same birthday. \n",
    "\n",
    "Let \n",
    " - $B_i$ be the event that the $i^{\\text{th}}$ person's birthday does not match any of the previous $(i-1)$ birthdays\n",
    " - Then the full event of interest is $A = B_1 \\cap B_2 \\cap \\dots \\cap B_n$, where all birthdays are different.\n",
    "\n",
    "Using the chain rule of probability, we have:\n",
    "$$\n",
    "\\begin{aligned}\n",
    "P(A) &= P(B_1 \\cap B_2 \\cap \\dots \\cap B_n) \\\\\n",
    "&= P(B_1) \\cdot P(B_2 \\mid B_1) \\cdot P(B_3 \\mid B_1 \\cap B_2) \\cdots P(B_n \\mid B_1 \\cap \\dots \\cap B_{n-1})\n",
    "\\end{aligned}\n",
    "$$\n",
    "\n",
    "Now we are going to compute these probabilities: \n",
    "\n",
    " - $P(B_1)$: out of the 365 days in a year, any of the 365 days can be chosen, therefore $B_1 = \\frac{365}{365}$.\n",
    " - $P(B_2)$: one birthday is taken, 364 remain out of 365: $P(B_2 | B_1) = \\frac{364}{365}$\n",
    " - $P(B_3)$: two birthday is taken, 363 remain out of 365: $P(B_3 | B_1 \\cap B_2 ) = \\frac{363}{365}$\n",
    " - ...\n",
    " - $P(B_i | B_1 \\cap B_2 \\cap \\dots B_{k-1}) = \\frac{365 - (i-1) }{365}$\n",
    "\n",
    "\n",
    "So the total probability of no collisions is: \n",
    "\n",
    "$$\n",
    "P(n) = P\\left(\\bigcap\\limits_{i=1}^{n} B_i\\right) = \\prod\\limits_{i=1}^{n} \\frac{365 - (i-1)}{365} = \\frac{365}{365} \\cdot \\frac{364}{365} \\cdot \\frac{363}{365} \\cdot \\cdots \\cdot \\frac{365-n+1}{365}\n",
    "$$\n",
    "\n",
    "Hence, the probability that at least two people share a birthday is: $1 - P(n)$. \n",
    "\n",
    "$$\n",
    "\\DeclareMathOperator{\\argmin}{argmin}\n",
    "$$\n",
    "\n",
    "Next we want to find the smallest value of $n$ such that the collision probability exceeds $50\\%$: \n",
    "\n",
    "$$\\argmin\\limits_{n \\in \\mathbb{N}} \\left\\{ 1 - P(n) \\geq \\frac{1}{2} \\right\\}.$$"
   ]
  },
  {
   "cell_type": "code",
   "execution_count": 1,
   "id": "a828a5de-d680-4091-8c5c-256197efa585",
   "metadata": {},
   "outputs": [
    {
     "name": "stdout",
     "output_type": "stream",
     "text": [
      "The smallest n such that P(n) >= 0.5 is 23\n"
     ]
    }
   ],
   "source": [
    "def birthday_prob(n):\n",
    "    prob_unique = 1.0\n",
    "    for k in range(n):\n",
    "        prob_unique *= (365 - k) / 365\n",
    "    return 1 - prob_unique\n",
    "\n",
    "n = 1\n",
    "while birthday_prob(n) < 0.5:\n",
    "    n += 1\n",
    "\n",
    "print(f\"The smallest n such that P(n) >= 0.5 is {n}\")\n"
   ]
  },
  {
   "attachments": {},
   "cell_type": "markdown",
   "id": "8467ac4e-a46b-48e3-a994-6174ec9c0088",
   "metadata": {},
   "source": [
    "---\n",
    "### The Paradox\n",
    "\n",
    "The fact that with only 23 people there is more than $50\\%$ probability of finding a collision in birthdays is rather counterintuitive. At first glance, one might naturally think that $\\left\\lceil \\frac{365}{2} \\right\\rceil = 183$ people are needed to expect a match. Hence, the name \"birthday paradox\". \n",
    "\n",
    "However, there are alternative perspectives that help make sense of the seemingly surprising result. While only $23$ people are required to expect a collision, we are not just making $22$ comparisons. In fact, each new individual added to the group is compared against all the previous ones. Therefore with $23$ people, the number of comparisons is: \n",
    "$$\n",
    "22+21+\\cdots+1 = \\frac{(23)(22)}{2} = {23 \\choose 2} = 253. \n",
    "$$ \n",
    "\n",
    "In this light, maybe $23$ people is not that surprising now. "
   ]
  },
  {
   "cell_type": "markdown",
   "id": "074938f6-2a20-4b20-99fe-42393c079896",
   "metadata": {},
   "source": [
    "---\n",
    "### Birthday Paradox Approximation "
   ]
  },
  {
   "cell_type": "markdown",
   "id": "12e83042-9a0e-4ff9-bd4c-f8153b23674c",
   "metadata": {},
   "source": [
    "We have established that: \n",
    "\n",
    "$$P(n) = P \\left( \\bigcap\\limits_{i=1}^n B_i \\right) = \\prod\\limits_{i=1}^n \\frac{365 - (i-1)}{365} = \\prod\\limits_{i=0}^{n-1} \\frac{365 - i}{365} = \\prod\\limits_{i=0}^{n-1} 1 - \\frac{i}{365}.$$\n",
    "\n",
    "In the Birthday Paradox problem, $365$ represents the number of days in a year. More generally, in collision-finding problems, the domain size can be any value $N$. Thus, we generalize the expression as:\n",
    "\n",
    "$$P(n) = \\prod\\limits_{i=0}^{n-1} 1 - \\frac{i}{N}.$$\n",
    "\n",
    "\n",
    "To find an approximation, we recognize that $0 \\leq \\frac{i}{N} \\leq 1$ for $0 \\leq i \\leq n \\leq N$, and that is the hint to apply the Taylor expansion of $\\ln(1-x)$, which converges when $0 \\leq x \\leq 1$ to find an approximation of no collision in a collision-finding problem. \n",
    "\n",
    "Hence, \n",
    "$$\n",
    "\\begin{aligned}\n",
    "&P(n) = \\prod\\limits_{i=0}^{n-1} 1 - \\frac{i}{N} \\\\\n",
    "\\Rightarrow &\\ln ( P(n) ) = \\ln \\left( \\prod\\limits_{i=0}^{n-1} 1 - \\frac{i}{N} \\right)\n",
    "= \\sum\\limits_{i=0}^{n-1} \\ln \\left( 1 - \\frac{i}{N}  \\right)\n",
    "\\end{aligned}\n",
    "$$"
   ]
  },
  {
   "cell_type": "markdown",
   "id": "bef4bbf0-013f-42ab-a716-b25553194c55",
   "metadata": {},
   "source": [
    "The Taylor series of $\\ln(1 - x)$ is:\n",
    "\n",
    "\n",
    "$$\\ln(1-x) = -x - \\frac{x^2}{2} - \\frac{x^3}{3} - \\dots.$$ \n",
    "\n",
    "Using the first-order approximation, we take: \n",
    "$$\\ln \\left( 1 - x \\right) \\approx -x$$. \n",
    "\n",
    "Therefore, \n",
    "$$\n",
    "\\begin{aligned}\n",
    "\\ln(P(n)) &= \\sum\\limits_{i=0}^{n=1} \\ln \\left( 1 - \\frac{i}{N} \\right) \\\\\n",
    "&\\approx \\sum\\limits_{i=0}^{n-1} -\\frac{i}{N} \\\\\n",
    "&= - \\frac{1}{N} \\sum\\limits_{i=0}^{n-1} i \\\\\n",
    "&= -\\frac{1}{N} \\cdot \\frac{(n)(n-1)}{2} \\quad \\quad \\quad \\quad \\quad \\quad \\text{since $\\sum\\limits_{i=0}^{n-1} i = 0+1+2+\\dots+(n-1) = \\frac{n(n-1)}{2}$}\n",
    "\\end{aligned}\n",
    "$$\n",
    "\n",
    "Additionally, for large $n$, we approximate $n(n-1) \\approx n^2$. Hence, \n",
    "$$\n",
    "\\begin{aligned}\n",
    "& \\ln(P(n)) \\approx -\\frac{n^2}{2N} \\\\\n",
    "\\xRightarrow{\\text{exponentiating both sides}} & P(n) \\approx e^{-\\frac{n^2}{2N}}\n",
    "\\end{aligned}\n",
    "$$\n",
    "\n",
    "Therefore, the probability of finding at least one collision is $1 - P(n) = 1 - e^{-\\frac{n^2}{2N}}$."
   ]
  },
  {
   "cell_type": "markdown",
   "id": "ed8ad981-6198-4f34-8a2e-401c344a1150",
   "metadata": {},
   "source": [
    "To expect a collision, we solve for when the collision probability exceeds $50\\%$. That is, \n",
    "$$1 - P(n) \\geq \\frac{1}{2}.$$\n",
    "\n",
    "Using the approximation $P(n) \\approx e^{- \\frac{n^2}{2N}}$, we get: \n",
    "\n",
    "$$\n",
    "\\begin{aligned}\n",
    "&1 - P(n) \\geq \\frac{1}{2} \\\\\n",
    "\\Rightarrow &1 - e^{-\\frac{n^2}{2N}} \\geq \\frac{1}{2} \\\\ \n",
    "\\Rightarrow &e^{-\\frac{n^2}{2N}} \\leq \\frac{1}{2} \\\\\n",
    "\\Rightarrow &\\frac{n^2}{2N} \\geq \\ln(2) \\\\\n",
    "\\Rightarrow &n^2 \\geq 2N \\ln(2) \\\\\n",
    "\\Rightarrow &n \\geq \\sqrt{ 2N \\ln(2) }. \n",
    "\\end{aligned}\n",
    "$$\n",
    "\n",
    "So for instance, in the classic birthday paradox problem, where $N=365$, we have \n",
    "$$\\sqrt{2 \\times 365 \\times \\ln(2)} \\approx 22.33.$$\n",
    "\n",
    "Taking the ceiling, $\\lceil 22.33 \\rceil = 23$. Thus, we approximately require $23$ people for there to be a greater than $50\\%$ chance of a shared birthday.  "
   ]
  },
  {
   "cell_type": "markdown",
   "id": "332b1971-1804-473c-950a-130cc2dd2d28",
   "metadata": {},
   "source": [
    "---\n",
    "### Related Questions"
   ]
  },
  {
   "cell_type": "markdown",
   "id": "0d4e6962-855e-47d6-ae8a-8cf274542f67",
   "metadata": {},
   "source": [
    "We briefly review a few related questions to the Birthday Problem to highlight how the answers can vary by simply tweaking the question:\n",
    "\n",
    "1. What's the probability that at least two people share a specific birthday, like January 1st?\n",
    "\n",
    "\n",
    "We compute the probability that 0 or 1 person has January 1st, then subtract from 1.\n",
    "\n",
    "- No one has Jan 1st:\n",
    "\n",
    "$$\n",
    "P_0 = \\left( \\frac{364}{365} \\right)^n\n",
    "$$\n",
    "\n",
    "- Exactly one person has Jan 1st:\n",
    "\n",
    "$$\n",
    "P_1 = n \\cdot \\left( \\frac{1}{365} \\right) \\cdot \\left( \\frac{364}{365} \\right)^{n - 1}\n",
    "$$\n",
    "\n",
    "- At least two people have Jan 1st:\n",
    "\n",
    "$$\n",
    "P_{\\geq 2} = 1 - P_0 - P_1\n",
    "$$"
   ]
  },
  {
   "cell_type": "code",
   "execution_count": 3,
   "id": "4136fb62-a625-4060-b489-c238d7805d1c",
   "metadata": {},
   "outputs": [
    {
     "name": "stdout",
     "output_type": "stream",
     "text": [
      "Minimum n such that P(>= 2 people share Jan 1st) >= 0.5 is: 613\n"
     ]
    }
   ],
   "source": [
    "def P_ge_2(n):\n",
    "    P0 = (364 / 365) ** n\n",
    "    P1 = n * (1 / 365) * (364 / 365) ** (n - 1)\n",
    "    return 1 - P0 - P1\n",
    "\n",
    "n = 1\n",
    "while True:\n",
    "    if P_ge_2(n) >= 0.5:\n",
    "        break\n",
    "    n += 1\n",
    "\n",
    "print(f\"Minimum n such that P(>= 2 people share Jan 1st) >= 0.5 is: {n}\")\n"
   ]
  },
  {
   "cell_type": "markdown",
   "id": "18100df8-79f6-47ad-a329-dbaf5a883b3c",
   "metadata": {},
   "source": [
    "Insight\n",
    "\n",
    "- Birthday Paradox (any date): 23 people for >50% chance.\n",
    "- Specific date (e.g., Jan 1st): Needs 613 people for similar chance."
   ]
  },
  {
   "cell_type": "markdown",
   "id": "21a4aba9-f1f2-4fe7-9b32-fdb85b3ddaae",
   "metadata": {},
   "source": [
    "2. How many people are needed for the probability that at least 3, 4, 5, etc. people share the same birthday to exceed $50\\%$?\n",
    "\n",
    "> The first few values are as follows: >50% probability of 3 people sharing a birthday - 88 people; >50% probability of 4 people sharing a birthday - 187 people. [1]"
   ]
  },
  {
   "cell_type": "markdown",
   "id": "f9de6e26-4720-4dbf-8239-30850e697c74",
   "metadata": {},
   "source": [
    "3. **Strong Birthday Problem**\n",
    "\n",
    "What is the minimum number of people needed so that there is at least a 50% chance that every person shares their birthday with at least one other person?\n",
    "\n",
    ">  For d=365 days the answer is 3,064 people. [1]"
   ]
  },
  {
   "cell_type": "markdown",
   "id": "3748b0ab-5015-4e67-b08e-c6a3cc649332",
   "metadata": {},
   "source": [
    "---"
   ]
  },
  {
   "cell_type": "markdown",
   "id": "43e8cf98-5452-494f-8d6d-b1bda854bb9e",
   "metadata": {},
   "source": [
    "### References and Suggested Resources\n",
    "\n",
    "[1] [Birthday Problem – Wikipedia](https://en.wikipedia.org/wiki/Birthday_problem)\n",
    "\n",
    "[2] [Birthday Paradox, Factorial Approximations & Laplace Method – ekamperi.github.io](https://ekamperi.github.io/mathematics/2019/11/09/birthday-paradox-factorial-approximations-laplace-method.html)\n",
    "\n",
    "[3] [Approximating the Birthday Problem – PlanetMath](https://planetmath.org/approximatingthebirthdayproblem).  \n",
    "\n",
    "[4] [The Birthday Problem – University of Regina (PDF)](https://uregina.ca/~kozdron/Teaching/UBC/302Fall10/Handouts/birthday_problem.pdf).  \n",
    "\n"
   ]
  },
  {
   "cell_type": "code",
   "execution_count": null,
   "id": "6724738c-f7e8-450e-9a6d-6dce92d65711",
   "metadata": {},
   "outputs": [],
   "source": []
  }
 ],
 "metadata": {
  "kernelspec": {
   "display_name": "Python 3.12",
   "language": "python",
   "name": "python3.12"
  },
  "language_info": {
   "codemirror_mode": {
    "name": "ipython",
    "version": 3
   },
   "file_extension": ".py",
   "mimetype": "text/x-python",
   "name": "python",
   "nbconvert_exporter": "python",
   "pygments_lexer": "ipython3",
   "version": "3.12.4"
  }
 },
 "nbformat": 4,
 "nbformat_minor": 5
}
