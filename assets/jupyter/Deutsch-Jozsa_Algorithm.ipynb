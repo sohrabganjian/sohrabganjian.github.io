{
 "cells": [
  {
   "cell_type": "markdown",
   "metadata": {},
   "source": [
    "# Deutsch–Jozsa Algorithm"
   ]
  },
  {
   "cell_type": "markdown",
   "metadata": {},
   "source": [
    "In this notebook, we introduce Deutsch-Jozsa algorithm, an extension of Deutsch algorithm. We discuss statistical properties of the permissible input functions in the context of the algorithm's \"promise\" problem. We then present the algorithm, verify its correctness, and compare quantum and classical strategies, analyzing their implications in the best-case, average-case, and worst-case scenarios."
   ]
  },
  {
   "cell_type": "markdown",
   "metadata": {},
   "source": [
    "# Table of Contents\n",
    "1. **Introduction**\n",
    "2. **Example of non-constnat, non-balanced of $f_n$**\n",
    "3. **Number of Constant or Balanced Functions**\n",
    "4. **Deutsch-Jozsa Problem Statement**\n",
    "5. **Quantum Algorithm**\n",
    "6. **Circuit Visualization for $n = 3$**\n",
    "7. **Proof of Correctness**\n",
    "8. **Classical Stategy and Comparision of Quantum and Classical Strategies**\n",
    "\n",
    "## Appendices\n",
    "9. **Appendix 1: References**\n",
    "10. **Appendix 2: Deutsch-Jozsa Circuit in PennyLane**"
   ]
  },
  {
   "cell_type": "markdown",
   "metadata": {},
   "source": [
    "### Introduction"
   ]
  },
  {
   "cell_type": "markdown",
   "metadata": {},
   "source": [
    "The Deutsch–Jozsa algorithm is an extension of the Deutsch algorithm, which we have already explored [here](https://sohrabganjian.github.io/blog/2025/deutsch-algorithm/). The Deutsch algorithm examines the interaction of an oracle with a single-variable Boolean function, \n",
    "\n",
    "$$f_1: \\{ 0,1 \\} \\rightarrow \\{ 0,1 \\}.$$\n",
    "\n",
    "The Deutsch–Jozsa algorithm generalizes this to study $n$-variable Boolean functions, \n",
    "\n",
    "$$f_n: \\{ 0,1 \\}^n \\rightarrow \\{ 0,1 \\}.$$\n",
    "\n",
    "For single-variable Boolean functions ($f_1$), the function is guaranteed to be either constant or balanced. In contrast, no such guarantee exists for general $n$-variable Boolean functions ($f_n$). However, in the Deutsch–Jozsa problem, the algorithm is \"promised\" that $ f_n $ is guaranteed to be either entirely constant or balanced. \n",
    "\n",
    "---\n",
    "\n",
    "### Example of non-constnat, non-balanced of $f_n$:\n",
    "\n",
    "\n",
    "A simple example of Boolean function $f_n: \\{ 0,1 \\}^n \\rightarrow \\{ 0,1 \\}$ that is neither constant nor balanced is:\n",
    "$$\n",
    "f_n(x_1, x_2, \\dots, x_n) = x_1 \\vee x_2 \\vee \\dots \\vee x_n \n",
    "$$\n",
    "\n",
    " - $\\textbf{$f_n$ is non-constant}$: $f_n(0,0,\\dots,0)=0$, but $f_n(1,0,\\dots,0) = 1$. \n",
    " - $\\textbf{$f_n$ is non-balanced}$: A function is balanced if it outputs $0$ and $1$ for exacly half of the inputs, $2^{n-1}$ times. For the OR function $f_n$, $f_n(x) = 0 \\Leftrightarrow x = (0,0,\\dots,0)$. This implies that $f_n$ outputs $1$, $2^{n} - 1$ times, and outputs $0$ exactly once. Hence $f_n$ is non-balanced. \n",
    " \n",
    "This shows that not all Boolean functions are constant or balanced. Hence, that is why Deutsch-Jozsa algorithm is considered a _promise_ problem. It is promised that the function $f_n$ is either constant or balanced. \n",
    "\n",
    "---\n",
    "\n",
    "### Number of Constant or Balanced Functions"
   ]
  },
  {
   "cell_type": "markdown",
   "metadata": {},
   "source": [
    "The domain has a total size of $\\left| \\{ 0,1 \\}^n \\right| = 2^n$, while the size of the range is $| \\{ 0,1\\}| = 2$. Consequently, there are $2^{2^n}$ possible functions, though, as established, not all are necessarily constant or balanced. \n",
    "\n",
    "Among these, only two functions are constant: one where all inputs map to 0 and another where all inputs map to 1.  \n",
    "\n",
    "Now to count the balanced functions, note that there are $2^n$ possibel inputs. A balanced function must map exactly half of them to 0 and the other half to 1. The number of ways to select which $2^{n-1}$ inputs map to 0 (with the remaining inputs automatically mapping to 1) is given by: \n",
    "$$\n",
    "{2^n \\choose {2^{n-1}}} .\n",
    "$$"
   ]
  },
  {
   "cell_type": "markdown",
   "metadata": {},
   "source": [
    "---\n",
    "\n",
    "### Deutsch-Jozsa Problem Statement\n",
    "\n",
    "Problem: Given an oracle (black-box implementation) of an $n$-variable Boolean function $f_n: \\{ 0,1 \\}^n \\rightarrow \\{ 0,1 \\}$, determine whether $f_n$ is:\n",
    "\n",
    "1. Constant (outputs 0 for all inputs or 1 for all inputs),\n",
    "2. Balanced (outputs 0 for exactly half of all inputs and 1 for the other half).\n",
    "\n",
    "---"
   ]
  },
  {
   "cell_type": "markdown",
   "metadata": {},
   "source": [
    "### Quantum Algorithm"
   ]
  },
  {
   "cell_type": "markdown",
   "metadata": {},
   "source": [
    "1. **Initialization**: The algorithm starts with an $n$-qubit register initialized to \n",
    "   $|0\\rangle^{\\otimes n}$ and an ancillary qubit set to $|1 \\rangle$:\n",
    "   $$\n",
    "   |\\psi_0 \\rangle = |0\\rangle^{\\otimes n} \\otimes |1\\rangle.\n",
    "   $$\n",
    "   \n",
    "2. **Hadamard Transformation**: Apply Hadamard gates to all qubits, transforming the state into:\n",
    "   $$\n",
    "   |\\psi_1\\rangle = H^{\\otimes n+1} |\\psi_0\\rangle.\n",
    "   $$\n",
    "   \n",
    "3. **Oracle Query**: The oracle $U_{f_n}$ is applied, performing the transformation:\n",
    "   $$\n",
    "   |\\psi_2\\rangle = U_{f_n} |\\psi_1\\rangle.\n",
    "   $$\n",
    "\n",
    "4. **Final Hadamard Transformation**: Applying Hadamard gates to the first $n$ qubits results in:\n",
    "   $$\n",
    "   |\\psi_3 \\rangle = H^{\\otimes n} |\\psi_2 \\rangle.\n",
    "   $$\n",
    "\n",
    "5. **Measurement**: \n",
    "   The final measurement is performed in the computational basis, specifically projecting onto the $ |0\\rangle^{\\otimes n} $ state:\n",
    "\n",
    "$$\n",
    "M_0 = |0\\rangle\\langle0|^{\\otimes n}.\n",
    "$$\n",
    "\n",
    "Applying this measurement operator to the final state $ |\\psi_3\\rangle $:\n",
    "\n",
    "$$\n",
    "p_0 = \\langle \\psi_3 | M_0 |\\psi_3\\rangle = |\\langle 0^{\\otimes n} | \\psi_3 \\rangle|^2.\n",
    "$$\n",
    "\n",
    "- If $ p_0 = 1 $, the function $ f_n $ is constant.\n",
    "- If $ p_0 = 0 $, the function $ f_n $ is balanced.\n",
    "\n",
    "---"
   ]
  },
  {
   "cell_type": "markdown",
   "metadata": {},
   "source": [
    "### Circuit Visualization for $n = 3$"
   ]
  },
  {
   "cell_type": "code",
   "execution_count": 1,
   "metadata": {},
   "outputs": [
    {
     "data": {
      "image/png": "[encoded data removed]",
      "text/plain": [
       "<Figure size 1282.74x605.567 with 1 Axes>"
      ]
     },
     "execution_count": 1,
     "metadata": {},
     "output_type": "execute_result"
    }
   ],
   "source": [
    "from qiskit import QuantumCircuit\n",
    "from qiskit.circuit import Gate\n",
    "import matplotlib.pyplot as plt\n",
    "\n",
    "# Configure Matplotlib for LaTeX-like rendering\n",
    "plt.rcParams['mathtext.fontset'] = 'stix'\n",
    "plt.rcParams['font.family'] = 'serif'\n",
    "\n",
    "n = 3  # Input qubits (q_0 to q_2)\n",
    "qc = QuantumCircuit(n+1, n)  # +1 for ancillary qubit (q_3)\n",
    "\n",
    "# Step 1: Apply X to ancillary qubit (q_3) in its own layer\n",
    "qc.x(n)\n",
    "qc.barrier()\n",
    "\n",
    "# Step 2: Apply H to all qubits (q_0 to q_3) in a single layer\n",
    "qc.h(range(n+1))\n",
    "qc.barrier()\n",
    "\n",
    "# Step 3: Oracle (placeholder)\n",
    "oracle_gate = Gate(name=f\"$U_{{f_{n}}}$\", num_qubits=n+1, params=[])\n",
    "qc.append(oracle_gate, range(n+1))\n",
    "qc.barrier()\n",
    "\n",
    "# Step 4: Post-oracle Hadamards and measurement\n",
    "qc.h(range(n))\n",
    "qc.measure(range(n), range(n))\n",
    "\n",
    "# ========== Custom Styling ========== #\n",
    "style = {\n",
    "    # \"name\": \"custom\",\n",
    "    \"backgroundcolor\": \"#FFFFFF\",  # White background\n",
    "    # \"textcolor\": \"#6b0212\",        # Dark text\n",
    "    # \"subtextcolor\": \"#6b0212\",\n",
    "    \"linecolor\": \"#333333\",      # qubit line register color\n",
    "    \"creglinecolor\": \"#666666\",  # classical register color\n",
    "    \"displaycolor\": {  \n",
    "        \"h\": (\"#1a1a1a\", \"#648FFF\"),  # (background color, text color)\n",
    "        \"x\": (\"#1a1a1a\", \"#FF6480\"),\n",
    "        \"$U_{f_3}$\": (\"#ba8f02\", \"#FFFFFF\")  # Lowercase for gate type\n",
    "    },\n",
    "    \"plotbarrier\": True,  # Show barriers\n",
    "    \"fontsize\": 12,\n",
    "    \"subfontsize\": 10,\n",
    "    \"figwidth\": 10,\n",
    "    \"dpi\": 300\n",
    "}\n",
    "\n",
    "# Draw the circuit with custom style\n",
    "qc.draw(\n",
    "    output=\"mpl\",\n",
    "    style=style,\n",
    "    plot_barriers=True,\n",
    "    scale=1,\n",
    ")"
   ]
  },
  {
   "cell_type": "markdown",
   "metadata": {},
   "source": [
    "---\n",
    "### Proof of Correctness"
   ]
  },
  {
   "cell_type": "markdown",
   "metadata": {},
   "source": [
    "To verify the correctness of the Deutsch-Jozsa algorithm, we analyze the transformations applied to the quantum state throughout the procedure.\n",
    "\n",
    "To facilitate the computation, we first analyze the effect of the Hadamard transform on the first $ n $ qubits separately before applying it to the entire system.\n",
    "$$\n",
    "\\begin{aligned}\n",
    "H^{\\otimes n} |0\\rangle^{\\otimes n} &= \\underbrace{H |0\\rangle \\otimes H |0\\rangle \\otimes \\dots \\otimes H |0\\rangle}_{n \\text{ times}}  \\\\\n",
    "&= \\frac{1}{\\sqrt{2}} \\left( |0 \\rangle + | 1 \\rangle \\right) \\otimes \\frac{1}{\\sqrt{2}} \\left( |0 \\rangle + | 1 \\rangle \\right) \\otimes \\dots \\frac{1}{\\sqrt{2}} \\left( |0 \\rangle + | 1 \\rangle \\right) \\\\\n",
    "&= \\frac{1}{\\sqrt{2}^n} \\left[ |\\underbrace{00 \\dots 0}_{n \\text{ times}} \\rangle + |\\underbrace{00 \\dots 0}_{n-1 \\text{ times}} 1 \\rangle + \\dots + |\\underbrace{11 \\dots 1}_{n \\text{ times}} \\rangle  \\right] \\\\\n",
    "&= \\frac{1}{\\sqrt{2}^n} \\sum\\limits_{x \\in \\{0,1\\}^n} |x \\rangle\n",
    "\\end{aligned}\n",
    "$$\n",
    "\n",
    "Since the Hadamard operation is applied to all $ n+1 $ qubits, we now extend this to include the ancillary qubit:\n",
    "\n",
    "$$\n",
    "\\begin{aligned}\n",
    "H^{\\otimes n+1} |\\psi_0 \\rangle &= H^{\\otimes n+1} \\left[ | 0 \\rangle^{\\otimes n} \\otimes | 1 \\rangle \\right] \\\\\n",
    "&= \\frac{1}{\\sqrt{2}^{n+1}} \\sum\\limits_{x \\in \\{ 0,1 \\}^n} |x\\rangle \\otimes \\left( |0\\rangle - |1\\rangle \\right) \\\\\n",
    "&= | \\psi_1 \\rangle\n",
    "\\end{aligned}\n",
    "$$\n",
    "\n",
    "Next, we apply the oracle $ U_{f_n} $. The oracle acts as follows:\n",
    "$$\n",
    "\\begin{aligned}\n",
    "U_{f_n} | \\psi_1 \\rangle \n",
    "&= \\frac{1}{\\sqrt{2}^{n+1}} \\sum\\limits_{x \\in \\{ 0,1 \\}^n} |x\\rangle \\otimes \\left( |f_n(x) \\rangle - |1 \\oplus f_n(x) \\rangle \\right) \\\\\n",
    "&= \\frac{1}{\\sqrt{2}^{n+1}} \\sum\\limits_{x \\in \\{ 0,1 \\}^n} (-1)^{f_n(x)} |x\\rangle \\otimes \\left( |0 \\rangle - |1 \\rangle \\right) \\\\\n",
    "&= | \\psi_2 \\rangle\n",
    "\\end{aligned}\n",
    "$$\n",
    "\n",
    "Then, to extract the information about $ f_n(x) $, we apply a Hadamard transform to the first $ n $ qubits:\n",
    "\n",
    "$$\n",
    "\\begin{aligned}\n",
    "\\left[ H^{\\otimes n} \\otimes I \\right] |\\psi_2 \\rangle\n",
    "\\end{aligned}\n",
    "$$\n",
    "\n",
    "Let $x$ be a fixed choice from $\\{ 0,1 \\}^n$. Then,\n",
    "$$\n",
    "\\begin{aligned}\n",
    "H^{\\otimes n} |x \\rangle &= H^{\\otimes n} |x_1 x_2 \\dots x_n \\rangle \\\\\n",
    "&=  H |x_1 \\rangle \\otimes H |x_2 \\rangle \\otimes \\dots \\otimes H |x_n \\rangle \n",
    "\\end{aligned}\n",
    "$$\n",
    "\n",
    "Note if $x_i = 0$, then $H | x_i \\rangle = \\frac{1}{\\sqrt{2}} \\left(  |0\\rangle \\textcolor{red}{+} |1\\rangle  \\right) $ and if $x_i = 1$, then $H | x_i \\rangle = \\frac{1}{\\sqrt{2}} \\left(  |0\\rangle \\textcolor{red}{-} |1\\rangle  \\right) $. Therefore, we compactly express $H | x_i \\rangle = \\frac{1}{\\sqrt{2}} \\left( |0 \\rangle + (-1)^{x_i} |1\\rangle \\right) $ "
   ]
  },
  {
   "cell_type": "markdown",
   "metadata": {},
   "source": [
    "Hence, \n",
    "\n",
    "$$\n",
    "\\begin{aligned}\n",
    "H^{\\otimes n} |x \\rangle &= \\left[ \\frac{1}{\\sqrt{2}} \\left( |0\\rangle + (-1)^{x_1} |1 \\rangle \\right) \\right] \\otimes\n",
    "\\left[ \\frac{1}{\\sqrt{2}} \\left( |0\\rangle + (-1)^{x_2} |1 \\rangle \\right) \\right] \\otimes \\dots \\otimes\n",
    "\\left[ \\frac{1}{\\sqrt{2}} \\left( |0\\rangle + (-1)^{x_n} |1 \\rangle \\right) \\right] \\\\\n",
    "&= \\left[ \\frac{1}{\\sqrt{2}} \\sum\\limits_{z_1 = 0}^{1} (-1)^{x_1 \\cdot z_1} |z_1 \\rangle \\right] \n",
    "\\otimes \\left[ \\frac{1}{\\sqrt{2}} \\sum\\limits_{z_2 = 0}^{1} (-1)^{x_2 \\cdot z_2} |z_2\\rangle \\right] \n",
    "\\otimes \\dots \n",
    "\\otimes \\left[ \\frac{1}{\\sqrt{2}} \\sum\\limits_{z_n = 0}^{1} (-1)^{x_n \\cdot z_n} |z_n \\rangle \\right]  \\\\\n",
    "&= \\frac{1}{\\sqrt{2}^n}\n",
    "\\sum\\limits_{z_1 = 0}^{1} \\sum\\limits_{z_2 = 0}^{1} \\dots \\sum\\limits_{z_n = 0}^{1}\n",
    "\\left[ \\prod\\limits_{i=1}^{n} \\left( -1 \\right)^{x_i \\cdot z_i} \\right] |z_1 z_2 \\dots z_n \\rangle \\\\\n",
    "&= \\frac{1}{\\sqrt{2}^n}\n",
    "\\sum\\limits_{z_1 = 0}^{1} \\sum\\limits_{z_2 = 0}^{1} \\dots \\sum\\limits_{z_n = 0}^{1}\n",
    "\\left[ \\left( -1 \\right)^{\\sum\\limits_{i=1}^{n}  x_i \\cdot z_i} \\right] |z_1 z_2 \\dots z_n \\rangle  \\\\\n",
    "&=\n",
    "\\frac{1}{\\sqrt{2}^n} \\sum\\limits_{z \\in \\{0,1\\}^n } \\left( -1 \\right)^{x \\cdot z} |z \\rangle \n",
    "\\end{aligned}\n",
    "$$"
   ]
  },
  {
   "cell_type": "markdown",
   "metadata": {},
   "source": [
    "Therefore, \n",
    "\n",
    "$$\n",
    "\\begin{aligned}\n",
    "H^{\\otimes n} \\otimes I |\\psi_2 \\rangle\n",
    "&= \\frac{1}{2^n} \\sum\\limits_{ x \\in \\{ 0,1 \\}^n } \\sum\\limits_{z \\in \\{0,1 \\}^n } (-1)^{f_n(x)} \\left( -1 \\right)^{x \\cdot z} | z \\rangle\n",
    "\\frac{|0\\rangle - |1\\rangle}{\\sqrt{2}} \\\\\n",
    "&= \\frac{1}{2^n} \\sum\\limits_{ x \\in \\{ 0,1 \\}^n } \\sum\\limits_{z \\in \\{0,1 \\}^n } (-1)^{f_n(x) + x \\cdot z} | z \\rangle\n",
    "\\frac{|0\\rangle - |1\\rangle}{\\sqrt{2}} \\\\\n",
    "\\end{aligned}\n",
    "$$\n",
    "\n",
    "\n",
    "Note that the order of summation can be swapped: \n",
    "\n",
    "$$\n",
    "\\begin{aligned}\n",
    "&= \\frac{1}{2^n} \\sum\\limits_{ x \\in \\{ 0,1 \\}^n } \\sum\\limits_{z \\in \\{0,1 \\}^n } (-1)^{f_n(x) + x \\cdot z} | z \\rangle\n",
    "\\frac{|0\\rangle - |1\\rangle}{\\sqrt{2}} \\\\\n",
    "&= \\frac{1}{2^n}  \\sum\\limits_{z \\in \\{0,1 \\}^n } \\sum\\limits_{ x \\in \\{ 0,1 \\}^n } (-1)^{f_n(x) + x \\cdot z} | z \\rangle\n",
    "\\frac{|0\\rangle - |1\\rangle}{\\sqrt{2}} \\\\\n",
    "&=  \\sum\\limits_{z \\in \\{0,1 \\}^n } \\sum\\limits_{ x \\in \\{ 0,1 \\}^n } \\frac{1}{2^n}  (-1)^{f_n(x) + x \\cdot z} | z \\rangle\n",
    "\\frac{|0\\rangle - |1\\rangle}{\\sqrt{2}} \\\\\n",
    "&= |\\psi_3 \\rangle\n",
    "\\end{aligned}\n",
    "$$"
   ]
  },
  {
   "cell_type": "markdown",
   "metadata": {},
   "source": [
    "Finally we make the measurement of the first $n$ qubits and ignoring the last qubit in all zero state when $z = 0 \\dots 0$:\n",
    "\n",
    "$$\n",
    "\\begin{aligned}\n",
    "p_0 = P(00 \\dots 0) = \\left| \\sum\\limits_{x \\in \\{ 0,1 \\}^n } \\frac{1}{2^n} \\left( -1 \\right)^{f_n(x)} \\left( -1 \\right)^{x \\cdot z} \\right|^2\n",
    "\\end{aligned}\n",
    "$$\n",
    "\n",
    "There are two cases to consider:\n",
    "\n",
    "1) $f_n(x)$ is constant, in which case, $f_(x) = 1$ always or $f_n(x) = 0$ always. Either way, $\\left( -1 \\right)^{f_n(x)} = \\pm 1$.  Note that $\\left| \\sum\\limits_{x \\in \\{ 0,1 \\}^n } \\left(-1 \\right)^{f_n(x)} \\right| = 2^n \\cdot 1 = 2^n$. Additionally, with $z=0\\dots0$, $\\left(-1 \\right)^{x \\cdot z} = 1$.\n",
    "In conclusion, if $f_n(x)$ is constant, then \n",
    "$$\n",
    "\\begin{aligned}\n",
    "P(00 \\dots 0) &= \\left| \\sum\\limits_{x \\in \\{ 0,1 \\}^n } \\frac{1}{2^n} \\left( -1 \\right)^{f_n(x)} \\left( -1 \\right)^{x \\cdot z} \\right|^2 \\\\\n",
    "&= \\frac{2^n}{2^n} \\\\\n",
    "&= 1. \n",
    "\\end{aligned}\n",
    "$$\n",
    "\n",
    "2) $f_n(x)$ is balanced. That is, in exacly $2^{n-1}$ of times $f_n(x) = 0$ and the other $2^{n-1}$ times, $f_n(x) = 1$. In this case, $\\sum\\limits_{x \\in \\{ 0,1 \\}^n} \\left(-1 \\right)^{f_n(x)} = 2^{n-1} - 2^{n-1} = 0$.  Additionally, with $z=0$, $(-1)^{x \\cdot z} = 1$ for all $x$, which is an important requirement for ensuring of the correctness of this arguement. In conclusion, if $f_n(x)$ balanced, then\n",
    "$$\n",
    "\\begin{aligned}\n",
    "P(00 \\dots 0) &= \\left| \\sum\\limits_{x \\in \\{ 0,1 \\}^n } \\frac{1}{2^n} \\left( -1 \\right)^{f_n(x)} \\left( -1 \\right)^{x \\cdot z} \\right|^2 \\\\\n",
    "&= 0. \n",
    "\\end{aligned}\n",
    "$$\n",
    "\n",
    "It follows that the Deutsch-Jozsa algorithm can determine whether $f_n(x)$ is balanced or constant with exactly one query! "
   ]
  },
  {
   "cell_type": "markdown",
   "metadata": {},
   "source": [
    "---\n",
    "### Classical Stategy and Comparision of Quantum and Classical Strategies\n",
    "\n",
    "In the classical setting, if $ f_n $ is a constant function (which is statistically less probable due to the larger number of balanced functions compared to constant ones), then in the worst-case scenario, $ 2^{n-1} + 1 $ queries are required to definitively confirm that $ f_n $ is indeed constant. This is because, in the worst case, one could observe $ 2^{n-1} $ identical function evaluations without ruling out the possibility that the next query will return a different output. Only after an additional query confirming the same output can one be certain that the function is constant. \n",
    "\n",
    "\n",
    "\n",
    "The quantum strategy still outperforms the classical strategy even in the best-case scenario. If $ f_n $ is balanced, the classical approach requires at least two queries to conclusively determine that the function is balanced.: one observation of $ 0 $ and another observation of $ 1 $. \n",
    "\n",
    "In contrast, the quantum algorithm still requires only a single query. However, in this case, the speedup is less impressive compared to the worst-case scenario.\n",
    "\n",
    "Furthermore, since the number of balanced functions overwhelmingly exceeds the number of constant functions, a uniformly random selection of $ f_n $ is far more likely to yield a balanced function. \n",
    "\n",
    "\n",
    "Additionally, in the classical setting, while the worst-case complexity is exponential, heuristic arguments suggest that the expected number of queries required to determine whether $ f_n $ is balanced or constant scales as $ \\mathcal{O}(\\log n) $. This follows from the fact that, when $ f_n $ is balanced, only a small number of queries (on the order of $\\log n$ or less) are typically needed to observe a contradiction.  \n",
    "\n",
    "However, to clarify, the Deutsch-Jozsa algorithm always solves the problem in a single query, providing a **logarithmic speedup on average**. However, in the **worst-case** scenario, the quantum strategy still achieves an **exponential** speedup, reducing the classical complexity of $ \\mathcal{O}(2^n) $ to just $ \\mathcal{O}(1) $ in the quantum setting."
   ]
  },
  {
   "cell_type": "markdown",
   "metadata": {},
   "source": [
    "---\n",
    "## Appendices\n",
    "---\n",
    "\n",
    "### Appendix 1: References \n",
    "\n",
    "- [Deutsch–Jozsa Algorithm (Wikipedia)](https://en.wikipedia.org/wiki/Deutsch%E2%80%93Jozsa_algorithm)\n",
    "- [Cambridge Quantum Computing Lecture 7](https://www.cl.cam.ac.uk/teaching/1920/QuantComp/Quantum_Computing_Lecture_7.pdf), University of Cambridge, taught by Dr. Steven Herbert (2019–2020). [Course homepage](https://www.cl.cam.ac.uk/teaching/1920/QuantComp/).\n",
    "- [Original Paper: Deutsch & Jozsa (1992)](https://royalsocietypublishing.org/doi/10.1098/rspa.1992.0167)"
   ]
  },
  {
   "cell_type": "markdown",
   "metadata": {},
   "source": [
    "---\n",
    "### Appendix 2: Deutsch-Jozsa Circuit in PennyLane"
   ]
  },
  {
   "cell_type": "code",
   "execution_count": 2,
   "metadata": {},
   "outputs": [
    {
     "data": {
      "image/png": "[encoded data removed]",
      "text/plain": [
       "<Figure size 1000x500 with 1 Axes>"
      ]
     },
     "metadata": {},
     "output_type": "display_data"
    }
   ],
   "source": [
    "import pennylane as qml\n",
    "import matplotlib.pyplot as plt\n",
    "\n",
    "n = 3\n",
    "dev = qml.device(\"default.qubit\", wires=n+1)\n",
    "\n",
    "class Oracle(qml.operation.Operation):\n",
    "    num_wires = n+1\n",
    "    grad_method = None\n",
    "    def __init__(self, wires, id=None):\n",
    "        super().__init__(wires=wires, id=id)\n",
    "    def label(self, decimals=None, base_label=None, cache=None):\n",
    "        return f\"$U_{{f_{n}}}$\"\n",
    "\n",
    "@qml.qnode(dev)\n",
    "def deutsch_jozsa_circuit():\n",
    "    qml.PauliX(wires=n)\n",
    "    qml.Barrier(wires=range(n+1))\n",
    "    for wire in range(n+1):\n",
    "        qml.Hadamard(wires=wire)\n",
    "    qml.Barrier(wires=range(n+1))\n",
    "    Oracle(wires=range(n+1))\n",
    "    qml.Barrier(wires=range(n+1))\n",
    "    for wire in range(n):\n",
    "        qml.Hadamard(wires=wire)\n",
    "    return qml.probs(wires=range(n))\n",
    "\n",
    "fig, ax = qml.draw_mpl(deutsch_jozsa_circuit)()\n",
    "plt.show()"
   ]
  },
  {
   "cell_type": "code",
   "execution_count": null,
   "metadata": {},
   "outputs": [],
   "source": []
  }
 ],
 "metadata": {
  "@webio": {
   "lastCommId": null,
   "lastKernelId": null
  },
  "kernelspec": {
   "display_name": "Python 3 (ipykernel)",
   "language": "python",
   "name": "python3"
  },
  "language_info": {
   "codemirror_mode": {
    "name": "ipython",
    "version": 3
   },
   "file_extension": ".py",
   "mimetype": "text/x-python",
   "name": "python",
   "nbconvert_exporter": "python",
   "pygments_lexer": "ipython3",
   "version": "3.12.4"
  }
 },
 "nbformat": 4,
 "nbformat_minor": 4
}
